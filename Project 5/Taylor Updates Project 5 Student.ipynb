{
 "cells": [
  {
   "cell_type": "markdown",
   "metadata": {},
   "source": [
    "## [Computational Social Science] Project 5: Natural Language Processing"
   ]
  },
  {
   "cell_type": "markdown",
   "metadata": {},
   "source": [
    "In this project, you will use natural language processing techniques to explore a dataset containing tweets from members of the 116th United States Congress that met from January 3, 2019 to January 2, 2021. The dataset has also been cleaned to contain information about each legislator. Concretely, you will do the following:\n",
    "\n",
    "* Preprocess the text of legislators' tweets\n",
    "* Conduct Exploratory Data Analysis of the text\n",
    "* Use sentiment analysis to explore differences between legislators' tweets\n",
    "* Featurize text with manual feature engineering, frequency-based, and vector-based techniques\n",
    "* Predict legislators' political parties and whether they are a Senator or Representative\n",
    "\n",
    "You will explore two questions that relate to two central findings in political science and examine how they relate to the text of legislators' tweets. First, political scientists have argued that U.S. politics is currently highly polarized relative to other periods in American history, but also that the polarization is asymmetric. Historically, there were several conservative Democrats (i.e. \"blue dog Democrats\") and liberal Republicans (i.e. \"Rockefeller Republicans\"), as measured by popular measurement tools like [DW-NOMINATE](https://en.wikipedia.org/wiki/NOMINATE_(scaling_method)#:~:text=DW\\%2DNOMINATE\\%20scores\\%20have\\%20been,in\\%20the\\%20liberal\\%2Dconservative\\%20scale.). However, in the last few years, there are few if any examples of any Democrat in Congress being further to the right than any Republican and vice versa. At the same time, scholars have argued that this polarization is mostly a function of the Republican party moving further right than the Democratic party has moved left. **Does this sort of asymmetric polarization show up in how politicians communicate to their constituents through tweets?**\n",
    "\n",
    "Second, the U.S. Congress is a bicameral legislature, and there has long been debate about partisanship in the Senate versus the House. The House of Representatives is apportioned by population and all members serve two year terms. In the Senate, each state receives two Senators and each Senator serves a term of six years. For a variety of reasons (smaller chamber size, more insulation from the voters, rules and norms like the filibuster, etc.), the Senate has been argued to be the \"cooling saucer\" of Congress in that it is more bipartisan and moderate than the House. **Does the theory that the Senate is more moderate have support in Senators' tweets?**\n",
    "\n",
    "**Note**: See the project handout for more details on caveats and the data dictionary."
   ]
  },
  {
   "cell_type": "code",
   "execution_count": 1,
   "metadata": {},
   "outputs": [],
   "source": [
    "# pandas and numpy\n",
    "import pandas as pd\n",
    "import numpy as numpy\n",
    "\n",
    "# punctuation, stop words and English language model\n",
    "from string import punctuation\n",
    "from spacy.lang.en.stop_words import STOP_WORDS\n",
    "import en_core_web_sm\n",
    "nlp = en_core_web_sm.load()\n",
    "\n",
    "# textblob\n",
    "from textblob import TextBlob\n",
    "\n",
    "# countvectorizer, tfidfvectorizer\n",
    "from sklearn.feature_extraction.text import CountVectorizer, TfidfVectorizer\n",
    "\n",
    "# gensim\n",
    "import gensim\n",
    "from gensim import models\n",
    "\n",
    "# plotting\n",
    "import matplotlib.pyplot as plt\n",
    "import seaborn as sns\n",
    "%matplotlib inline"
   ]
  },
  {
   "cell_type": "code",
   "execution_count": 2,
   "metadata": {},
   "outputs": [
    {
     "data": {
      "text/html": [
       "<div>\n",
       "<style scoped>\n",
       "    .dataframe tbody tr th:only-of-type {\n",
       "        vertical-align: middle;\n",
       "    }\n",
       "\n",
       "    .dataframe tbody tr th {\n",
       "        vertical-align: top;\n",
       "    }\n",
       "\n",
       "    .dataframe thead th {\n",
       "        text-align: right;\n",
       "    }\n",
       "</style>\n",
       "<table border=\"1\" class=\"dataframe\">\n",
       "  <thead>\n",
       "    <tr style=\"text-align: right;\">\n",
       "      <th></th>\n",
       "      <th>tweet_id</th>\n",
       "      <th>screen_name</th>\n",
       "      <th>datetime</th>\n",
       "      <th>text</th>\n",
       "      <th>name_wikipedia</th>\n",
       "      <th>position</th>\n",
       "      <th>joined_congress_date</th>\n",
       "      <th>birthday</th>\n",
       "      <th>gender</th>\n",
       "      <th>state</th>\n",
       "      <th>district_number</th>\n",
       "      <th>party</th>\n",
       "      <th>trump_2016_state_share</th>\n",
       "      <th>clinton_2016_state_share</th>\n",
       "      <th>obama_2012_state_share</th>\n",
       "      <th>romney_2012_state_share</th>\n",
       "    </tr>\n",
       "  </thead>\n",
       "  <tbody>\n",
       "    <tr>\n",
       "      <th>908961</th>\n",
       "      <td>1.250810e+18</td>\n",
       "      <td>RepJayapal</td>\n",
       "      <td>2020-04-16T11:31:24-04:00</td>\n",
       "      <td>RT @RepKClark 22 million Americans filed for u...</td>\n",
       "      <td>Pramila Jayapal</td>\n",
       "      <td>Rep</td>\n",
       "      <td>3-Jan-17</td>\n",
       "      <td>9/21/1965</td>\n",
       "      <td>F</td>\n",
       "      <td>WA</td>\n",
       "      <td>7</td>\n",
       "      <td>Democrat</td>\n",
       "      <td>1,221,747</td>\n",
       "      <td>1,742,718</td>\n",
       "      <td>1,755,396</td>\n",
       "      <td>1,290,670</td>\n",
       "    </tr>\n",
       "    <tr>\n",
       "      <th>175615</th>\n",
       "      <td>1.098040e+18</td>\n",
       "      <td>RepJohnLarson</td>\n",
       "      <td>2019-02-19T20:51:22-05:00</td>\n",
       "      <td>Thanks to all who came out to tonight’s forum ...</td>\n",
       "      <td>John B. Larson</td>\n",
       "      <td>Rep</td>\n",
       "      <td>3-Jan-99</td>\n",
       "      <td>7/22/1948</td>\n",
       "      <td>M</td>\n",
       "      <td>CT</td>\n",
       "      <td>1</td>\n",
       "      <td>Democrat</td>\n",
       "      <td>673,215</td>\n",
       "      <td>897,572</td>\n",
       "      <td>905,083</td>\n",
       "      <td>634,892</td>\n",
       "    </tr>\n",
       "    <tr>\n",
       "      <th>64613</th>\n",
       "      <td>1.105510e+18</td>\n",
       "      <td>SpeakerPelosi</td>\n",
       "      <td>2019-03-12T12:55:01-04:00</td>\n",
       "      <td>RT @RepFilemonVela #Dreamers &amp;amp; TPS recipie...</td>\n",
       "      <td>Nancy Pelosi</td>\n",
       "      <td>Rep</td>\n",
       "      <td>2-Jun-87</td>\n",
       "      <td>3/26/1940</td>\n",
       "      <td>F</td>\n",
       "      <td>CA</td>\n",
       "      <td>12</td>\n",
       "      <td>Democrat</td>\n",
       "      <td>4,483,814</td>\n",
       "      <td>8,753,792</td>\n",
       "      <td>7,854,285</td>\n",
       "      <td>4,839,958</td>\n",
       "    </tr>\n",
       "    <tr>\n",
       "      <th>783091</th>\n",
       "      <td>1.174370e+18</td>\n",
       "      <td>JoaquinCastrotx</td>\n",
       "      <td>2019-09-18T13:24:49-04:00</td>\n",
       "      <td>RT @HispanicCaucus @JoaquinCastrotx @TheBlackC...</td>\n",
       "      <td>Joaquín Castro</td>\n",
       "      <td>Rep</td>\n",
       "      <td>3-Jan-13</td>\n",
       "      <td>9/16/1974</td>\n",
       "      <td>M</td>\n",
       "      <td>TX</td>\n",
       "      <td>20</td>\n",
       "      <td>Democrat</td>\n",
       "      <td>4,685,047</td>\n",
       "      <td>3,877,868</td>\n",
       "      <td>3,308,124</td>\n",
       "      <td>4,569,843</td>\n",
       "    </tr>\n",
       "    <tr>\n",
       "      <th>553399</th>\n",
       "      <td>1.099380e+18</td>\n",
       "      <td>RepJoeMorelle</td>\n",
       "      <td>2019-02-23T13:29:08-05:00</td>\n",
       "      <td>Thank you to @NYGovCuomo for being here today ...</td>\n",
       "      <td>Joseph D. Morelle</td>\n",
       "      <td>Rep</td>\n",
       "      <td>13-Nov-18</td>\n",
       "      <td>4/29/1957</td>\n",
       "      <td>M</td>\n",
       "      <td>NY</td>\n",
       "      <td>25</td>\n",
       "      <td>Democrat</td>\n",
       "      <td>2,819,533</td>\n",
       "      <td>4,556,118</td>\n",
       "      <td>4,485,741</td>\n",
       "      <td>2,490,431</td>\n",
       "    </tr>\n",
       "  </tbody>\n",
       "</table>\n",
       "</div>"
      ],
      "text/plain": [
       "            tweet_id      screen_name                   datetime  \\\n",
       "908961  1.250810e+18       RepJayapal  2020-04-16T11:31:24-04:00   \n",
       "175615  1.098040e+18    RepJohnLarson  2019-02-19T20:51:22-05:00   \n",
       "64613   1.105510e+18    SpeakerPelosi  2019-03-12T12:55:01-04:00   \n",
       "783091  1.174370e+18  JoaquinCastrotx  2019-09-18T13:24:49-04:00   \n",
       "553399  1.099380e+18    RepJoeMorelle  2019-02-23T13:29:08-05:00   \n",
       "\n",
       "                                                     text     name_wikipedia  \\\n",
       "908961  RT @RepKClark 22 million Americans filed for u...    Pramila Jayapal   \n",
       "175615  Thanks to all who came out to tonight’s forum ...     John B. Larson   \n",
       "64613   RT @RepFilemonVela #Dreamers &amp; TPS recipie...       Nancy Pelosi   \n",
       "783091  RT @HispanicCaucus @JoaquinCastrotx @TheBlackC...     Joaquín Castro   \n",
       "553399  Thank you to @NYGovCuomo for being here today ...  Joseph D. Morelle   \n",
       "\n",
       "       position joined_congress_date   birthday gender state district_number  \\\n",
       "908961      Rep             3-Jan-17  9/21/1965      F    WA               7   \n",
       "175615      Rep             3-Jan-99  7/22/1948      M    CT               1   \n",
       "64613       Rep             2-Jun-87  3/26/1940      F    CA              12   \n",
       "783091      Rep             3-Jan-13  9/16/1974      M    TX              20   \n",
       "553399      Rep            13-Nov-18  4/29/1957      M    NY              25   \n",
       "\n",
       "           party trump_2016_state_share clinton_2016_state_share  \\\n",
       "908961  Democrat              1,221,747                1,742,718   \n",
       "175615  Democrat                673,215                  897,572   \n",
       "64613   Democrat              4,483,814                8,753,792   \n",
       "783091  Democrat              4,685,047                3,877,868   \n",
       "553399  Democrat              2,819,533                4,556,118   \n",
       "\n",
       "       obama_2012_state_share romney_2012_state_share  \n",
       "908961              1,755,396               1,290,670  \n",
       "175615                905,083                 634,892  \n",
       "64613               7,854,285               4,839,958  \n",
       "783091              3,308,124               4,569,843  \n",
       "553399              4,485,741               2,490,431  "
      ]
     },
     "execution_count": 2,
     "metadata": {},
     "output_type": "execute_result"
    }
   ],
   "source": [
    "# load data \n",
    "# ----------\n",
    "import numpy as np\n",
    "import pandas as pd\n",
    "congress_tweets = pd.read_csv(\"data/116th Congressional Tweets and Demographics.csv\")\n",
    "# fill in this line of code with a sufficient number of tweets, depending on your computational resources\n",
    "np.random.seed(42)\n",
    "congress_tweets = congress_tweets.sample(n=10000)\n",
    "congress_tweets.head()"
   ]
  },
  {
   "cell_type": "markdown",
   "metadata": {},
   "source": [
    "Actually, I'm not sure if I should be adding these new columns (below) back into the dataset because I'm only taking a small sample of the dataset. I'll re-think this when I go into Part II of the project."
   ]
  },
  {
   "cell_type": "code",
   "execution_count": 3,
   "metadata": {},
   "outputs": [
    {
     "data": {
      "text/html": [
       "<div>\n",
       "<style scoped>\n",
       "    .dataframe tbody tr th:only-of-type {\n",
       "        vertical-align: middle;\n",
       "    }\n",
       "\n",
       "    .dataframe tbody tr th {\n",
       "        vertical-align: top;\n",
       "    }\n",
       "\n",
       "    .dataframe thead th {\n",
       "        text-align: right;\n",
       "    }\n",
       "</style>\n",
       "<table border=\"1\" class=\"dataframe\">\n",
       "  <thead>\n",
       "    <tr style=\"text-align: right;\">\n",
       "      <th></th>\n",
       "      <th>tweet_id</th>\n",
       "      <th>screen_name</th>\n",
       "      <th>datetime</th>\n",
       "      <th>text</th>\n",
       "      <th>name_wikipedia</th>\n",
       "      <th>position</th>\n",
       "      <th>joined_congress_date</th>\n",
       "      <th>birthday</th>\n",
       "      <th>gender</th>\n",
       "      <th>state</th>\n",
       "      <th>district_number</th>\n",
       "      <th>party</th>\n",
       "      <th>trump_2016_state_share</th>\n",
       "      <th>clinton_2016_state_share</th>\n",
       "      <th>obama_2012_state_share</th>\n",
       "      <th>romney_2012_state_share</th>\n",
       "      <th>party_2012</th>\n",
       "      <th>party_2016</th>\n",
       "    </tr>\n",
       "  </thead>\n",
       "  <tbody>\n",
       "    <tr>\n",
       "      <th>908961</th>\n",
       "      <td>1.250810e+18</td>\n",
       "      <td>RepJayapal</td>\n",
       "      <td>2020-04-16T11:31:24-04:00</td>\n",
       "      <td>RT @RepKClark 22 million Americans filed for u...</td>\n",
       "      <td>Pramila Jayapal</td>\n",
       "      <td>Rep</td>\n",
       "      <td>3-Jan-17</td>\n",
       "      <td>9/21/1965</td>\n",
       "      <td>F</td>\n",
       "      <td>WA</td>\n",
       "      <td>7</td>\n",
       "      <td>Democrat</td>\n",
       "      <td>1,221,747</td>\n",
       "      <td>1,742,718</td>\n",
       "      <td>1,755,396</td>\n",
       "      <td>1,290,670</td>\n",
       "      <td>Democrat2012</td>\n",
       "      <td>Democrat2016</td>\n",
       "    </tr>\n",
       "    <tr>\n",
       "      <th>175615</th>\n",
       "      <td>1.098040e+18</td>\n",
       "      <td>RepJohnLarson</td>\n",
       "      <td>2019-02-19T20:51:22-05:00</td>\n",
       "      <td>Thanks to all who came out to tonight’s forum ...</td>\n",
       "      <td>John B. Larson</td>\n",
       "      <td>Rep</td>\n",
       "      <td>3-Jan-99</td>\n",
       "      <td>7/22/1948</td>\n",
       "      <td>M</td>\n",
       "      <td>CT</td>\n",
       "      <td>1</td>\n",
       "      <td>Democrat</td>\n",
       "      <td>673,215</td>\n",
       "      <td>897,572</td>\n",
       "      <td>905,083</td>\n",
       "      <td>634,892</td>\n",
       "      <td>Democrat2012</td>\n",
       "      <td>Democrat2016</td>\n",
       "    </tr>\n",
       "    <tr>\n",
       "      <th>64613</th>\n",
       "      <td>1.105510e+18</td>\n",
       "      <td>SpeakerPelosi</td>\n",
       "      <td>2019-03-12T12:55:01-04:00</td>\n",
       "      <td>RT @RepFilemonVela #Dreamers &amp;amp; TPS recipie...</td>\n",
       "      <td>Nancy Pelosi</td>\n",
       "      <td>Rep</td>\n",
       "      <td>2-Jun-87</td>\n",
       "      <td>3/26/1940</td>\n",
       "      <td>F</td>\n",
       "      <td>CA</td>\n",
       "      <td>12</td>\n",
       "      <td>Democrat</td>\n",
       "      <td>4,483,814</td>\n",
       "      <td>8,753,792</td>\n",
       "      <td>7,854,285</td>\n",
       "      <td>4,839,958</td>\n",
       "      <td>Democrat2012</td>\n",
       "      <td>Democrat2016</td>\n",
       "    </tr>\n",
       "    <tr>\n",
       "      <th>783091</th>\n",
       "      <td>1.174370e+18</td>\n",
       "      <td>JoaquinCastrotx</td>\n",
       "      <td>2019-09-18T13:24:49-04:00</td>\n",
       "      <td>RT @HispanicCaucus @JoaquinCastrotx @TheBlackC...</td>\n",
       "      <td>Joaquín Castro</td>\n",
       "      <td>Rep</td>\n",
       "      <td>3-Jan-13</td>\n",
       "      <td>9/16/1974</td>\n",
       "      <td>M</td>\n",
       "      <td>TX</td>\n",
       "      <td>20</td>\n",
       "      <td>Democrat</td>\n",
       "      <td>4,685,047</td>\n",
       "      <td>3,877,868</td>\n",
       "      <td>3,308,124</td>\n",
       "      <td>4,569,843</td>\n",
       "      <td>Republican2012</td>\n",
       "      <td>Republican2016</td>\n",
       "    </tr>\n",
       "    <tr>\n",
       "      <th>553399</th>\n",
       "      <td>1.099380e+18</td>\n",
       "      <td>RepJoeMorelle</td>\n",
       "      <td>2019-02-23T13:29:08-05:00</td>\n",
       "      <td>Thank you to @NYGovCuomo for being here today ...</td>\n",
       "      <td>Joseph D. Morelle</td>\n",
       "      <td>Rep</td>\n",
       "      <td>13-Nov-18</td>\n",
       "      <td>4/29/1957</td>\n",
       "      <td>M</td>\n",
       "      <td>NY</td>\n",
       "      <td>25</td>\n",
       "      <td>Democrat</td>\n",
       "      <td>2,819,533</td>\n",
       "      <td>4,556,118</td>\n",
       "      <td>4,485,741</td>\n",
       "      <td>2,490,431</td>\n",
       "      <td>Democrat2012</td>\n",
       "      <td>Democrat2016</td>\n",
       "    </tr>\n",
       "  </tbody>\n",
       "</table>\n",
       "</div>"
      ],
      "text/plain": [
       "            tweet_id      screen_name                   datetime  \\\n",
       "908961  1.250810e+18       RepJayapal  2020-04-16T11:31:24-04:00   \n",
       "175615  1.098040e+18    RepJohnLarson  2019-02-19T20:51:22-05:00   \n",
       "64613   1.105510e+18    SpeakerPelosi  2019-03-12T12:55:01-04:00   \n",
       "783091  1.174370e+18  JoaquinCastrotx  2019-09-18T13:24:49-04:00   \n",
       "553399  1.099380e+18    RepJoeMorelle  2019-02-23T13:29:08-05:00   \n",
       "\n",
       "                                                     text     name_wikipedia  \\\n",
       "908961  RT @RepKClark 22 million Americans filed for u...    Pramila Jayapal   \n",
       "175615  Thanks to all who came out to tonight’s forum ...     John B. Larson   \n",
       "64613   RT @RepFilemonVela #Dreamers &amp; TPS recipie...       Nancy Pelosi   \n",
       "783091  RT @HispanicCaucus @JoaquinCastrotx @TheBlackC...     Joaquín Castro   \n",
       "553399  Thank you to @NYGovCuomo for being here today ...  Joseph D. Morelle   \n",
       "\n",
       "       position joined_congress_date   birthday gender state district_number  \\\n",
       "908961      Rep             3-Jan-17  9/21/1965      F    WA               7   \n",
       "175615      Rep             3-Jan-99  7/22/1948      M    CT               1   \n",
       "64613       Rep             2-Jun-87  3/26/1940      F    CA              12   \n",
       "783091      Rep             3-Jan-13  9/16/1974      M    TX              20   \n",
       "553399      Rep            13-Nov-18  4/29/1957      M    NY              25   \n",
       "\n",
       "           party trump_2016_state_share clinton_2016_state_share  \\\n",
       "908961  Democrat              1,221,747                1,742,718   \n",
       "175615  Democrat                673,215                  897,572   \n",
       "64613   Democrat              4,483,814                8,753,792   \n",
       "783091  Democrat              4,685,047                3,877,868   \n",
       "553399  Democrat              2,819,533                4,556,118   \n",
       "\n",
       "       obama_2012_state_share romney_2012_state_share      party_2012  \\\n",
       "908961              1,755,396               1,290,670    Democrat2012   \n",
       "175615                905,083                 634,892    Democrat2012   \n",
       "64613               7,854,285               4,839,958    Democrat2012   \n",
       "783091              3,308,124               4,569,843  Republican2012   \n",
       "553399              4,485,741               2,490,431    Democrat2012   \n",
       "\n",
       "            party_2016  \n",
       "908961    Democrat2016  \n",
       "175615    Democrat2016  \n",
       "64613     Democrat2016  \n",
       "783091  Republican2016  \n",
       "553399    Democrat2016  "
      ]
     },
     "execution_count": 3,
     "metadata": {},
     "output_type": "execute_result"
    }
   ],
   "source": [
    "#Create dictionary for states' 2012 and 2016 election results, store it in dataset because we probably will do some change over time stuff related to RQ2\n",
    "mappedstates = {}  # Create an empty dictionary to hold state mappings\n",
    "\n",
    "# Iterate over rows for 2012 data\n",
    "for index, row in congress_tweets.iterrows():\n",
    "    if row['obama_2012_state_share'] > row['romney_2012_state_share']:\n",
    "        mappedstates[row['state']] = ['Democrat2012', None]  # Assign Democrat for 2012\n",
    "    else:\n",
    "        mappedstates[row['state']] = ['Republican2012', None]  # Assign Republican for 2012\n",
    "\n",
    "# Iterate over rows for 2016 data and update mappings\n",
    "for index, row in congress_tweets.iterrows():\n",
    "    if row['clinton_2016_state_share'] > row['trump_2016_state_share']:\n",
    "        mappedstates[row['state']][1] = 'Democrat2016'  # Update 2016 to Democrat\n",
    "    else:\n",
    "        mappedstates[row['state']][1] = 'Republican2016'  # Update 2016 to Republican\n",
    "\n",
    "# Create new columns for party affiliation in 2012 and 2016\n",
    "congress_tweets['party_2012'] = congress_tweets['state'].map(lambda state: mappedstates.get(state, [None, None])[0])\n",
    "congress_tweets['party_2016'] = congress_tweets['state'].map(lambda state: mappedstates.get(state, [None, None])[1])\n",
    "\n",
    "# Check the updated DataFrame\n",
    "congress_tweets.head()"
   ]
  },
  {
   "cell_type": "code",
   "execution_count": 4,
   "metadata": {},
   "outputs": [
    {
     "data": {
      "text/html": [
       "<div>\n",
       "<style scoped>\n",
       "    .dataframe tbody tr th:only-of-type {\n",
       "        vertical-align: middle;\n",
       "    }\n",
       "\n",
       "    .dataframe tbody tr th {\n",
       "        vertical-align: top;\n",
       "    }\n",
       "\n",
       "    .dataframe thead th {\n",
       "        text-align: right;\n",
       "    }\n",
       "</style>\n",
       "<table border=\"1\" class=\"dataframe\">\n",
       "  <thead>\n",
       "    <tr style=\"text-align: right;\">\n",
       "      <th></th>\n",
       "      <th>tweet_id</th>\n",
       "      <th>screen_name</th>\n",
       "      <th>datetime</th>\n",
       "      <th>text</th>\n",
       "      <th>name_wikipedia</th>\n",
       "      <th>position</th>\n",
       "      <th>joined_congress_date</th>\n",
       "      <th>birthday</th>\n",
       "      <th>gender</th>\n",
       "      <th>state</th>\n",
       "      <th>district_number</th>\n",
       "      <th>party</th>\n",
       "      <th>trump_2016_state_share</th>\n",
       "      <th>clinton_2016_state_share</th>\n",
       "      <th>obama_2012_state_share</th>\n",
       "      <th>romney_2012_state_share</th>\n",
       "      <th>party_2012</th>\n",
       "      <th>party_2016</th>\n",
       "    </tr>\n",
       "  </thead>\n",
       "  <tbody>\n",
       "    <tr>\n",
       "      <th>908961</th>\n",
       "      <td>1.250810e+18</td>\n",
       "      <td>RepJayapal</td>\n",
       "      <td>2020-04-16T11:31:24-04:00</td>\n",
       "      <td>RT @RepKClark 22 million Americans filed for u...</td>\n",
       "      <td>Pramila Jayapal</td>\n",
       "      <td>Rep</td>\n",
       "      <td>2017-01-03</td>\n",
       "      <td>1965-09-21</td>\n",
       "      <td>F</td>\n",
       "      <td>WA</td>\n",
       "      <td>7</td>\n",
       "      <td>Democrat</td>\n",
       "      <td>1,221,747</td>\n",
       "      <td>1,742,718</td>\n",
       "      <td>1,755,396</td>\n",
       "      <td>1,290,670</td>\n",
       "      <td>Democrat2012</td>\n",
       "      <td>Democrat2016</td>\n",
       "    </tr>\n",
       "    <tr>\n",
       "      <th>175615</th>\n",
       "      <td>1.098040e+18</td>\n",
       "      <td>RepJohnLarson</td>\n",
       "      <td>2019-02-19T20:51:22-05:00</td>\n",
       "      <td>Thanks to all who came out to tonight’s forum ...</td>\n",
       "      <td>John B. Larson</td>\n",
       "      <td>Rep</td>\n",
       "      <td>1999-01-03</td>\n",
       "      <td>1948-07-22</td>\n",
       "      <td>M</td>\n",
       "      <td>CT</td>\n",
       "      <td>1</td>\n",
       "      <td>Democrat</td>\n",
       "      <td>673,215</td>\n",
       "      <td>897,572</td>\n",
       "      <td>905,083</td>\n",
       "      <td>634,892</td>\n",
       "      <td>Democrat2012</td>\n",
       "      <td>Democrat2016</td>\n",
       "    </tr>\n",
       "    <tr>\n",
       "      <th>64613</th>\n",
       "      <td>1.105510e+18</td>\n",
       "      <td>SpeakerPelosi</td>\n",
       "      <td>2019-03-12T12:55:01-04:00</td>\n",
       "      <td>RT @RepFilemonVela #Dreamers &amp;amp; TPS recipie...</td>\n",
       "      <td>Nancy Pelosi</td>\n",
       "      <td>Rep</td>\n",
       "      <td>1987-06-02</td>\n",
       "      <td>1940-03-26</td>\n",
       "      <td>F</td>\n",
       "      <td>CA</td>\n",
       "      <td>12</td>\n",
       "      <td>Democrat</td>\n",
       "      <td>4,483,814</td>\n",
       "      <td>8,753,792</td>\n",
       "      <td>7,854,285</td>\n",
       "      <td>4,839,958</td>\n",
       "      <td>Democrat2012</td>\n",
       "      <td>Democrat2016</td>\n",
       "    </tr>\n",
       "    <tr>\n",
       "      <th>783091</th>\n",
       "      <td>1.174370e+18</td>\n",
       "      <td>JoaquinCastrotx</td>\n",
       "      <td>2019-09-18T13:24:49-04:00</td>\n",
       "      <td>RT @HispanicCaucus @JoaquinCastrotx @TheBlackC...</td>\n",
       "      <td>Joaquín Castro</td>\n",
       "      <td>Rep</td>\n",
       "      <td>2013-01-03</td>\n",
       "      <td>1974-09-16</td>\n",
       "      <td>M</td>\n",
       "      <td>TX</td>\n",
       "      <td>20</td>\n",
       "      <td>Democrat</td>\n",
       "      <td>4,685,047</td>\n",
       "      <td>3,877,868</td>\n",
       "      <td>3,308,124</td>\n",
       "      <td>4,569,843</td>\n",
       "      <td>Republican2012</td>\n",
       "      <td>Republican2016</td>\n",
       "    </tr>\n",
       "    <tr>\n",
       "      <th>553399</th>\n",
       "      <td>1.099380e+18</td>\n",
       "      <td>RepJoeMorelle</td>\n",
       "      <td>2019-02-23T13:29:08-05:00</td>\n",
       "      <td>Thank you to @NYGovCuomo for being here today ...</td>\n",
       "      <td>Joseph D. Morelle</td>\n",
       "      <td>Rep</td>\n",
       "      <td>2018-11-13</td>\n",
       "      <td>1957-04-29</td>\n",
       "      <td>M</td>\n",
       "      <td>NY</td>\n",
       "      <td>25</td>\n",
       "      <td>Democrat</td>\n",
       "      <td>2,819,533</td>\n",
       "      <td>4,556,118</td>\n",
       "      <td>4,485,741</td>\n",
       "      <td>2,490,431</td>\n",
       "      <td>Democrat2012</td>\n",
       "      <td>Democrat2016</td>\n",
       "    </tr>\n",
       "  </tbody>\n",
       "</table>\n",
       "</div>"
      ],
      "text/plain": [
       "            tweet_id      screen_name                   datetime  \\\n",
       "908961  1.250810e+18       RepJayapal  2020-04-16T11:31:24-04:00   \n",
       "175615  1.098040e+18    RepJohnLarson  2019-02-19T20:51:22-05:00   \n",
       "64613   1.105510e+18    SpeakerPelosi  2019-03-12T12:55:01-04:00   \n",
       "783091  1.174370e+18  JoaquinCastrotx  2019-09-18T13:24:49-04:00   \n",
       "553399  1.099380e+18    RepJoeMorelle  2019-02-23T13:29:08-05:00   \n",
       "\n",
       "                                                     text     name_wikipedia  \\\n",
       "908961  RT @RepKClark 22 million Americans filed for u...    Pramila Jayapal   \n",
       "175615  Thanks to all who came out to tonight’s forum ...     John B. Larson   \n",
       "64613   RT @RepFilemonVela #Dreamers &amp; TPS recipie...       Nancy Pelosi   \n",
       "783091  RT @HispanicCaucus @JoaquinCastrotx @TheBlackC...     Joaquín Castro   \n",
       "553399  Thank you to @NYGovCuomo for being here today ...  Joseph D. Morelle   \n",
       "\n",
       "       position joined_congress_date   birthday gender state district_number  \\\n",
       "908961      Rep           2017-01-03 1965-09-21      F    WA               7   \n",
       "175615      Rep           1999-01-03 1948-07-22      M    CT               1   \n",
       "64613       Rep           1987-06-02 1940-03-26      F    CA              12   \n",
       "783091      Rep           2013-01-03 1974-09-16      M    TX              20   \n",
       "553399      Rep           2018-11-13 1957-04-29      M    NY              25   \n",
       "\n",
       "           party trump_2016_state_share clinton_2016_state_share  \\\n",
       "908961  Democrat              1,221,747                1,742,718   \n",
       "175615  Democrat                673,215                  897,572   \n",
       "64613   Democrat              4,483,814                8,753,792   \n",
       "783091  Democrat              4,685,047                3,877,868   \n",
       "553399  Democrat              2,819,533                4,556,118   \n",
       "\n",
       "       obama_2012_state_share romney_2012_state_share      party_2012  \\\n",
       "908961              1,755,396               1,290,670    Democrat2012   \n",
       "175615                905,083                 634,892    Democrat2012   \n",
       "64613               7,854,285               4,839,958    Democrat2012   \n",
       "783091              3,308,124               4,569,843  Republican2012   \n",
       "553399              4,485,741               2,490,431    Democrat2012   \n",
       "\n",
       "            party_2016  \n",
       "908961    Democrat2016  \n",
       "175615    Democrat2016  \n",
       "64613     Democrat2016  \n",
       "783091  Republican2016  \n",
       "553399    Democrat2016  "
      ]
     },
     "execution_count": 4,
     "metadata": {},
     "output_type": "execute_result"
    }
   ],
   "source": [
    "#Play around with formatting of temporal variables\n",
    "congress_tweets['joined_congress_date'] = pd.to_datetime(congress_tweets['joined_congress_date'], format='%d-%b-%y')\n",
    "\n",
    "congress_tweets['birthday'] = pd.to_datetime(congress_tweets['birthday'], format='%m/%d/%Y')\n",
    "\n",
    "congress_tweets.head()"
   ]
  },
  {
   "cell_type": "code",
   "execution_count": 5,
   "metadata": {},
   "outputs": [
    {
     "data": {
      "text/html": [
       "<div>\n",
       "<style scoped>\n",
       "    .dataframe tbody tr th:only-of-type {\n",
       "        vertical-align: middle;\n",
       "    }\n",
       "\n",
       "    .dataframe tbody tr th {\n",
       "        vertical-align: top;\n",
       "    }\n",
       "\n",
       "    .dataframe thead th {\n",
       "        text-align: right;\n",
       "    }\n",
       "</style>\n",
       "<table border=\"1\" class=\"dataframe\">\n",
       "  <thead>\n",
       "    <tr style=\"text-align: right;\">\n",
       "      <th></th>\n",
       "      <th>tweet_id</th>\n",
       "      <th>screen_name</th>\n",
       "      <th>datetime</th>\n",
       "      <th>text</th>\n",
       "      <th>name_wikipedia</th>\n",
       "      <th>position</th>\n",
       "      <th>joined_congress_date</th>\n",
       "      <th>birthday</th>\n",
       "      <th>gender</th>\n",
       "      <th>state</th>\n",
       "      <th>district_number</th>\n",
       "      <th>party</th>\n",
       "      <th>trump_2016_state_share</th>\n",
       "      <th>clinton_2016_state_share</th>\n",
       "      <th>obama_2012_state_share</th>\n",
       "      <th>romney_2012_state_share</th>\n",
       "      <th>party_2012</th>\n",
       "      <th>party_2016</th>\n",
       "      <th>screen_name_all</th>\n",
       "    </tr>\n",
       "  </thead>\n",
       "  <tbody>\n",
       "    <tr>\n",
       "      <th>0</th>\n",
       "      <td>1.250810e+18</td>\n",
       "      <td>RepJayapal</td>\n",
       "      <td>2020-04-16T11:31:24-04:00</td>\n",
       "      <td>RT @RepKClark 22 million Americans filed for u...</td>\n",
       "      <td>Pramila Jayapal</td>\n",
       "      <td>Rep</td>\n",
       "      <td>2017-01-03</td>\n",
       "      <td>1965-09-21</td>\n",
       "      <td>F</td>\n",
       "      <td>WA</td>\n",
       "      <td>7</td>\n",
       "      <td>Democrat</td>\n",
       "      <td>1,221,747</td>\n",
       "      <td>1,742,718</td>\n",
       "      <td>1,755,396</td>\n",
       "      <td>1,290,670</td>\n",
       "      <td>Democrat2012</td>\n",
       "      <td>Democrat2016</td>\n",
       "      <td>[RepJayapal]</td>\n",
       "    </tr>\n",
       "    <tr>\n",
       "      <th>1</th>\n",
       "      <td>1.098040e+18</td>\n",
       "      <td>RepJohnLarson</td>\n",
       "      <td>2019-02-19T20:51:22-05:00</td>\n",
       "      <td>Thanks to all who came out to tonight’s forum ...</td>\n",
       "      <td>John B. Larson</td>\n",
       "      <td>Rep</td>\n",
       "      <td>1999-01-03</td>\n",
       "      <td>1948-07-22</td>\n",
       "      <td>M</td>\n",
       "      <td>CT</td>\n",
       "      <td>1</td>\n",
       "      <td>Democrat</td>\n",
       "      <td>673,215</td>\n",
       "      <td>897,572</td>\n",
       "      <td>905,083</td>\n",
       "      <td>634,892</td>\n",
       "      <td>Democrat2012</td>\n",
       "      <td>Democrat2016</td>\n",
       "      <td>[RepJohnLarson]</td>\n",
       "    </tr>\n",
       "    <tr>\n",
       "      <th>2</th>\n",
       "      <td>1.105510e+18</td>\n",
       "      <td>SpeakerPelosi</td>\n",
       "      <td>2019-03-12T12:55:01-04:00</td>\n",
       "      <td>RT @RepFilemonVela #Dreamers &amp;amp; TPS recipie...</td>\n",
       "      <td>Nancy Pelosi</td>\n",
       "      <td>Rep</td>\n",
       "      <td>1987-06-02</td>\n",
       "      <td>1940-03-26</td>\n",
       "      <td>F</td>\n",
       "      <td>CA</td>\n",
       "      <td>12</td>\n",
       "      <td>Democrat</td>\n",
       "      <td>4,483,814</td>\n",
       "      <td>8,753,792</td>\n",
       "      <td>7,854,285</td>\n",
       "      <td>4,839,958</td>\n",
       "      <td>Democrat2012</td>\n",
       "      <td>Democrat2016</td>\n",
       "      <td>[SpeakerPelosi]</td>\n",
       "    </tr>\n",
       "    <tr>\n",
       "      <th>3</th>\n",
       "      <td>1.174370e+18</td>\n",
       "      <td>JoaquinCastrotx</td>\n",
       "      <td>2019-09-18T13:24:49-04:00</td>\n",
       "      <td>RT @HispanicCaucus @JoaquinCastrotx @TheBlackC...</td>\n",
       "      <td>Joaquín Castro</td>\n",
       "      <td>Rep</td>\n",
       "      <td>2013-01-03</td>\n",
       "      <td>1974-09-16</td>\n",
       "      <td>M</td>\n",
       "      <td>TX</td>\n",
       "      <td>20</td>\n",
       "      <td>Democrat</td>\n",
       "      <td>4,685,047</td>\n",
       "      <td>3,877,868</td>\n",
       "      <td>3,308,124</td>\n",
       "      <td>4,569,843</td>\n",
       "      <td>Republican2012</td>\n",
       "      <td>Republican2016</td>\n",
       "      <td>[JoaquinCastrotx]</td>\n",
       "    </tr>\n",
       "    <tr>\n",
       "      <th>4</th>\n",
       "      <td>1.099380e+18</td>\n",
       "      <td>RepJoeMorelle</td>\n",
       "      <td>2019-02-23T13:29:08-05:00</td>\n",
       "      <td>Thank you to @NYGovCuomo for being here today ...</td>\n",
       "      <td>Joseph D. Morelle</td>\n",
       "      <td>Rep</td>\n",
       "      <td>2018-11-13</td>\n",
       "      <td>1957-04-29</td>\n",
       "      <td>M</td>\n",
       "      <td>NY</td>\n",
       "      <td>25</td>\n",
       "      <td>Democrat</td>\n",
       "      <td>2,819,533</td>\n",
       "      <td>4,556,118</td>\n",
       "      <td>4,485,741</td>\n",
       "      <td>2,490,431</td>\n",
       "      <td>Democrat2012</td>\n",
       "      <td>Democrat2016</td>\n",
       "      <td>[RepJoeMorelle]</td>\n",
       "    </tr>\n",
       "  </tbody>\n",
       "</table>\n",
       "</div>"
      ],
      "text/plain": [
       "       tweet_id      screen_name                   datetime  \\\n",
       "0  1.250810e+18       RepJayapal  2020-04-16T11:31:24-04:00   \n",
       "1  1.098040e+18    RepJohnLarson  2019-02-19T20:51:22-05:00   \n",
       "2  1.105510e+18    SpeakerPelosi  2019-03-12T12:55:01-04:00   \n",
       "3  1.174370e+18  JoaquinCastrotx  2019-09-18T13:24:49-04:00   \n",
       "4  1.099380e+18    RepJoeMorelle  2019-02-23T13:29:08-05:00   \n",
       "\n",
       "                                                text     name_wikipedia  \\\n",
       "0  RT @RepKClark 22 million Americans filed for u...    Pramila Jayapal   \n",
       "1  Thanks to all who came out to tonight’s forum ...     John B. Larson   \n",
       "2  RT @RepFilemonVela #Dreamers &amp; TPS recipie...       Nancy Pelosi   \n",
       "3  RT @HispanicCaucus @JoaquinCastrotx @TheBlackC...     Joaquín Castro   \n",
       "4  Thank you to @NYGovCuomo for being here today ...  Joseph D. Morelle   \n",
       "\n",
       "  position joined_congress_date   birthday gender state district_number  \\\n",
       "0      Rep           2017-01-03 1965-09-21      F    WA               7   \n",
       "1      Rep           1999-01-03 1948-07-22      M    CT               1   \n",
       "2      Rep           1987-06-02 1940-03-26      F    CA              12   \n",
       "3      Rep           2013-01-03 1974-09-16      M    TX              20   \n",
       "4      Rep           2018-11-13 1957-04-29      M    NY              25   \n",
       "\n",
       "      party trump_2016_state_share clinton_2016_state_share  \\\n",
       "0  Democrat              1,221,747                1,742,718   \n",
       "1  Democrat                673,215                  897,572   \n",
       "2  Democrat              4,483,814                8,753,792   \n",
       "3  Democrat              4,685,047                3,877,868   \n",
       "4  Democrat              2,819,533                4,556,118   \n",
       "\n",
       "  obama_2012_state_share romney_2012_state_share      party_2012  \\\n",
       "0              1,755,396               1,290,670    Democrat2012   \n",
       "1                905,083                 634,892    Democrat2012   \n",
       "2              7,854,285               4,839,958    Democrat2012   \n",
       "3              3,308,124               4,569,843  Republican2012   \n",
       "4              4,485,741               2,490,431    Democrat2012   \n",
       "\n",
       "       party_2016    screen_name_all  \n",
       "0    Democrat2016       [RepJayapal]  \n",
       "1    Democrat2016    [RepJohnLarson]  \n",
       "2    Democrat2016    [SpeakerPelosi]  \n",
       "3  Republican2016  [JoaquinCastrotx]  \n",
       "4    Democrat2016    [RepJoeMorelle]  "
      ]
     },
     "execution_count": 5,
     "metadata": {},
     "output_type": "execute_result"
    }
   ],
   "source": [
    "#Obviously a person's name does not change, even if their screen name does. What we want to do is capture all the screen names associated with a particular individual\n",
    "\n",
    "# Create a mapping dictionary from 'screen_name' to 'name_wikipedia'\n",
    "screenname_to_wiki = dict(zip(congress_tweets['screen_name'], congress_tweets['name_wikipedia']))\n",
    "\n",
    "# Map the dictionary to create the 'mapped_wikipedia' column\n",
    "congress_tweets['mapped_wikipedia'] = congress_tweets['screen_name'].map(screenname_to_wiki)\n",
    "\n",
    "# Group by 'mapped_wikipedia' and aggregate 'screen_names' into a list, ensuring uniqueness\n",
    "screenname_grouped = congress_tweets.groupby('mapped_wikipedia')['screen_name'].apply(lambda x: list(set(x))).reset_index()\n",
    "\n",
    "# Rename the column in 'screenname_grouped' to 'screen_name_all'\n",
    "screenname_grouped = screenname_grouped.rename(columns={'screen_name': 'screen_name_all'})\n",
    "\n",
    "# Merge the aggregated 'screen_name_all' back into the original DataFrame\n",
    "congress_tweets = congress_tweets.merge(screenname_grouped[['mapped_wikipedia', 'screen_name_all']], \n",
    "                                        on='mapped_wikipedia', \n",
    "                                        how='left', \n",
    "                                        suffixes=('', '_merged'))\n",
    "\n",
    "# Identify and drop any redundant 'screen_name_all' columns, leaving only the correct one\n",
    "columns_to_drop = [col for col in congress_tweets.columns if 'screen_name_all' in col and col != 'screen_name_all']\n",
    "congress_tweets.drop(columns=columns_to_drop, inplace=True)\n",
    "\n",
    "# Drop the 'mapped_wikipedia' column\n",
    "congress_tweets.drop(columns='mapped_wikipedia', inplace=True)\n",
    "\n",
    "# Check results\n",
    "congress_tweets.head()"
   ]
  },
  {
   "cell_type": "code",
   "execution_count": 6,
   "metadata": {},
   "outputs": [
    {
     "name": "stdout",
     "output_type": "stream",
     "text": [
      "Empty DataFrame\n",
      "Columns: [screen_name_all]\n",
      "Index: []\n"
     ]
    }
   ],
   "source": [
    "# Filter rows where 'screen_name_all' contains more than one screen name\n",
    "multiple_screen_names = congress_tweets[congress_tweets['screen_name_all'].apply(len) > 1]\n",
    "\n",
    "# Display rows with multiple screen names\n",
    "print(multiple_screen_names[['screen_name_all']])\n"
   ]
  },
  {
   "cell_type": "markdown",
   "metadata": {},
   "source": [
    "Lol, so there seem to be no updated screen names in this sample, I'm going to keep this code though, since the project PDF indicated that there will be different screen names for the same individual in some cases."
   ]
  },
  {
   "cell_type": "markdown",
   "metadata": {},
   "source": [
    "## Preprocessing"
   ]
  },
  {
   "cell_type": "markdown",
   "metadata": {},
   "source": [
    "The first step in working with text data is to preprocess it. Make sure you do the following:\n",
    "\n",
    "* Remove punctuation and stop words. The `rem_punc_stop()` function we used in lab is provided to you but you should feel free to edit it as necessary for other steps\n",
    "* Remove tokens that occur frequently in tweets, but may not be helpful for downstream classification. For instance, many tweets contain a flag for retweeting, or share a URL \n",
    "\n",
    "As you search online, you might run into solutions that rely on regular expressions. You are free to use these, but you should also be able to preprocess using the techniques we covered in lab. Specifically, we encourage you to use spaCy's token attributes and string methods to do some of this text preprocessing."
   ]
  },
  {
   "cell_type": "code",
   "execution_count": 15,
   "metadata": {},
   "outputs": [],
   "source": [
    "##this pretty unelegant but I basically kept adding stuff to be removed each time I went back to the tweets and found something\n",
    "import html\n",
    "import spacy\n",
    "import re\n",
    "from string import punctuation\n",
    "\n",
    "# Load the SpaCy model\n",
    "nlp = spacy.load(\"en_core_web_sm\")\n",
    "\n",
    "def rem_punc_stop(text):\n",
    "    stop_words = STOP_WORDS  # List of common stopwords in English\n",
    "    punc = set(punctuation)  # Set of punctuation characters\n",
    "    \n",
    "    # Decode HTML escape codes like &amp;\n",
    "    text = html.unescape(text)  # Decode other HTML escape codes like &lt;, &gt;, etc.\n",
    "    text = text.replace('&', '')  # Manually remove '&' symbol\n",
    "    \n",
    "    # Remove newline characters and unnecessary whitespaces\n",
    "    text = text.replace('\\n', ' ').strip()\n",
    "    \n",
    "    # Remove URLs using regex before SpaCy tokenization\n",
    "    text = re.sub(r'http[s]?://\\S+|www\\.\\S+', '', text)  # Removes URLs like http://, https://, www.*\n",
    "    \n",
    "    # Remove punctuation (except mentions)\n",
    "    punc_free = \"\".join([ch for ch in text if ch not in punc or ch == '@'])  # Keep @ for mentions\n",
    "    \n",
    "    # Process the text with SpaCy\n",
    "    doc = nlp(punc_free)\n",
    "\n",
    "    # Get all words, excluding URLs using the 'like_url' attribute from SpaCy\n",
    "    spacy_words = [token.text for token in doc if not token.like_url]  # Excludes URLs\n",
    "    \n",
    "    # Remove empty strings or unwanted space tokens\n",
    "    spacy_words = [word for word in spacy_words if word.strip()]\n",
    "    \n",
    "    # Remove the word 'nt' specifically\n",
    "    spacy_words = [word for word in spacy_words if word.lower() != 'nt']\n",
    "    \n",
    "    # Filter out stop words and convert to lowercase\n",
    "    no_punc = [word for word in spacy_words if word.lower() not in stop_words]\n",
    "    \n",
    "    return no_punc\n"
   ]
  },
  {
   "cell_type": "code",
   "execution_count": 16,
   "metadata": {},
   "outputs": [
    {
     "name": "stdout",
     "output_type": "stream",
     "text": [
      "['matter', 'topic', 'standing', 'civilrights', 'sexualassault', 'survivors', 'regulating', 'forprofitcolleges', '@BetsyDeVosED', 'sides', 'lenders', 'corporations', 'students', 'working', 'mission', '@usedgov', 'QT', '@RepKClark', '2nd', 'year', 'row', '@StateDept', 'erased', 'reproductivehealth', 'maternal', 'comprehensive', 'care', 'annual', 'humanrights', 'report', 'filed', 'bill', 'demand', 'treat', 'womens', 'health', 'humanright']\n"
     ]
    }
   ],
   "source": [
    "# Test tweet\n",
    "tweet_text = \"\"\"It doesn't matter the topic- from standing up for #civilrights &amp; #sexualassault survivors to regulating #forprofitcolleges- @BetsyDeVosED sides with the lenders and the corporations- not students. She is working against the mission of the @usedgov. https://twitter.com/RepKClark/status/1108874640838049792 QT @RepKClark For the 2nd year in a row, the @StateDept erased #reproductivehealth- maternal and comprehensive care- from the annual #humanrights report. I filed a bill to demand they treat women's health for what it is: a #humanright. https://twitter.com/RepKClark/status/1108872716264882176\"\"\"\n",
    "\n",
    "# Apply the function to the tweet_text\n",
    "cleaned_text = rem_punc_stop(tweet_text)\n",
    "\n",
    "# Print the cleaned text\n",
    "print(cleaned_text)"
   ]
  },
  {
   "cell_type": "code",
   "execution_count": null,
   "metadata": {},
   "outputs": [],
   "source": [
    "# apply the function to the 'text' i.e. tweet column\n",
    "# ----------\n",
    "congress_tweets['tokens'] = congress_tweets['text'].map(lambda x: rem_punc_stop(x)) # can use apply here \n",
    "congress_tweets['tokens'] # visualize"
   ]
  },
  {
   "cell_type": "code",
   "execution_count": 9,
   "metadata": {},
   "outputs": [],
   "source": [
    "!git status"
   ]
  },
  {
   "cell_type": "code",
   "execution_count": 10,
   "metadata": {},
   "outputs": [],
   "source": [
    "!git add \"Taylor Updates Project 5 Student.ipynb\""
   ]
  },
  {
   "cell_type": "code",
   "execution_count": 11,
   "metadata": {},
   "outputs": [],
   "source": [
    "!git status"
   ]
  },
  {
   "cell_type": "code",
   "execution_count": 12,
   "metadata": {},
   "outputs": [],
   "source": [
    "!git commit -m \"New commits\""
   ]
  },
  {
   "cell_type": "code",
   "execution_count": 13,
   "metadata": {},
   "outputs": [],
   "source": [
    "!git push"
   ]
  },
  {
   "cell_type": "markdown",
   "metadata": {},
   "source": [
    "## Exploratory Data Analysis"
   ]
  },
  {
   "cell_type": "markdown",
   "metadata": {},
   "source": [
    "Use two of the techniques we covered in lab (or other techniques outside of lab!) to explore the text of the tweets. You should construct these visualizations with an eye toward the eventual classification tasks: (1) predicting the legislator's political party based on the text of their tweet, and (2) predicting whether the legislator is a Senator or Representative. As a reminder, in lab we covered word frequencies, word clouds, word/character counts, scattertext, and topic modeling as possible exploration tools. "
   ]
  },
  {
   "cell_type": "markdown",
   "metadata": {},
   "source": [
    "### EDA 1"
   ]
  },
  {
   "cell_type": "code",
   "execution_count": 14,
   "metadata": {},
   "outputs": [
    {
     "data": {
      "image/png": "[encoded data removed]",
      "text/plain": [
       "<Figure size 640x480 with 1 Axes>"
      ]
     },
     "metadata": {},
     "output_type": "display_data"
    }
   ],
   "source": [
    "# apply function to text object\n",
    "from wordcloud import WordCloud\n",
    "import matplotlib.pyplot as plt\n",
    "text = ' '.join(congress_tweets['tokens'].map(lambda text: ' '.join(text)))\n",
    "\n",
    "# create WordCloud visualization using the \"text\" object \n",
    "wordcloud = WordCloud(background_color = \"white\",  # set background color to white\n",
    "                      random_state=41              # set random state to ensure same word cloud each time\n",
    "                      ).generate(text)             # change the background color\n",
    "\n",
    "\n",
    "# plot \n",
    "plt.imshow(wordcloud,                  # specify wordcloud\n",
    "           interpolation = 'bilinear') # specifies how the words are displayed\n",
    "plt.axis('off')                        # turn off axes\n",
    "plt.show()                             # show the plot"
   ]
  },
  {
   "cell_type": "markdown",
   "metadata": {},
   "source": [
    "### EDA 2-ish"
   ]
  },
  {
   "cell_type": "markdown",
   "metadata": {},
   "source": [
    "### Retweets and Quote Tweets"
   ]
  },
  {
   "cell_type": "markdown",
   "metadata": {},
   "source": [
    "I think that retweets and quote tweets are meaningful signals, though we might not want to have them messing up our sentiment analysis. \n",
    "First, let's pull them out to see how prevalent they actually are (reminding ourselves that this is a small subset of our very large dataset)"
   ]
  },
  {
   "cell_type": "code",
   "execution_count": 15,
   "metadata": {},
   "outputs": [
    {
     "name": "stdout",
     "output_type": "stream",
     "text": [
      "Number of tweets containing Retweets: 2494\n",
      "Number of tweets containing Quote tweets: 1444\n"
     ]
    }
   ],
   "source": [
    "# Find all tweets containing \"RT\" or \"QT\"\n",
    "RTtweets = congress_tweets[congress_tweets['text'].str.contains('RT', na=False)]\n",
    "QTtweets = congress_tweets[congress_tweets['text'].str.contains('QT', na=False)]\n",
    "\n",
    "# Print the count of retweets and quote tweets\n",
    "print(f\"Number of tweets containing Retweets: {RTtweets.shape[0]}\")\n",
    "print(f\"Number of tweets containing Quote tweets: {QTtweets.shape[0]}\")"
   ]
  },
  {
   "cell_type": "markdown",
   "metadata": {},
   "source": [
    "Now there are some analytic choices here. \n",
    "For quote tweets, we will probably need to conceptualize this as a conversation, where the sentiment/message of the original tweet could ostensibly be the opposite of the re-poster. (I.e. \"I can't believe that this person said this!\"\n",
    "However, should 'simple' re-tweets be considered representative of the person doing the re-tweeting? (I.e. emphasizing/affirming the encapsulated idea? )\n",
    "Or should they be attributed to the original speaker/author(s) instead? What should we do if multiple people are being referenced?\n",
    "Let's see if people are re-tweeting/quote-tweeting other individuals who are also in our database. As we can only reasonably infer characteristics (e.g. political party) about people being re-tweeted if they are in our database already."
   ]
  },
  {
   "cell_type": "code",
   "execution_count": 16,
   "metadata": {},
   "outputs": [
    {
     "name": "stdout",
     "output_type": "stream",
     "text": [
      "                                                text\n",
      "0  RT @RepKClark 22 million Americans filed for u...\n",
      "2  RT @RepFilemonVela #Dreamers &amp; TPS recipie...\n",
      "3  RT @HispanicCaucus @JoaquinCastrotx @TheBlackC...\n",
      "4  Thank you to @NYGovCuomo for being here today ...\n",
      "5  .@RepRubenGallego and I are urging companies w...\n",
      "Total number of tweets containing an @: 5832\n"
     ]
    }
   ],
   "source": [
    "repost_users = congress_tweets[congress_tweets['text'].str.contains('@', na=False)]\n",
    "\n",
    "print(repost_users[['text']].head())\n",
    "\n",
    "# Print the count of tweets with an @\n",
    "print(f\"Total number of tweets containing an @: {repost_users.shape[0]}\")"
   ]
  },
  {
   "cell_type": "code",
   "execution_count": 17,
   "metadata": {},
   "outputs": [
    {
     "name": "stdout",
     "output_type": "stream",
     "text": [
      "Tweet Author: RepKClark\n",
      "Author Political Affiliation: Democrat\n",
      "Mentioned User: RepKClark\n",
      "Mentioned User Political Affiliation: Democrat\n",
      "\n",
      "Tweet Text: It doesn't matter the topic- from standing up for #civilrights to protecting #sexualassault survivors to regulating #forprofitcolleges- @BetsyDeVosED sides with the lenders and the corporations- not students. She is working against the mission of the @usedgov. https://twitter.com/RepKClark/status/1108874640838049792 QT @RepKClark For the 2nd year in a row, the @StateDept erased #reproductivehealth- maternal and comprehensive care- from the annual #humanrights report. I filed a bill to demand they treat women's health for what it is: a #humanright. https://twitter.com/RepKClark/status/1108872716264882176\n",
      "_________\n",
      "Tweet Author: RepGonzalez\n",
      "Author Political Affiliation: Democrat\n",
      "Mentioned User: RepFilemonVela\n",
      "Mentioned User Political Affiliation: Democrat\n",
      "\n",
      "Tweet Text: This Admin promised that Mexico would pay for the wall not the American people. The @HispanicCaucus needs to vote NO to stop wasting $1.3 BILLION in taxpayer monies on a useless border wall. https://twitter.com/RepFilemonVela/status/1206609429841555456 QT @RepFilemonVela Congressional Hispanic Caucus members! Reject 1.3 BILLION more in border wall funding! Otherwise, why even exist? It’s time to stand up for border communities!\n",
      "_________\n",
      "Tweet Author: JoaquinCastrotx\n",
      "Author Political Affiliation: Democrat\n",
      "Mentioned User: JoaquinCastrotx\n",
      "Mentioned User Political Affiliation: Democrat\n",
      "\n",
      "Tweet Text: RT @DFCgov Join @AdamUSDFC, @JoaquinCastrotx, @HansPeterLankes, and @glassmanamanda on Thursday for a virtual discussion on IQ, DFC's development impact measurement tool. Register for @CGDev's #CGDTalks: https://www.cgdev.org/event/measuring-development-impact-dfcs-new-impact-quotient-iq-tool\n",
      "_________\n",
      "Tweet Author: RepDavid\n",
      "Author Political Affiliation: Republican\n",
      "Mentioned User: RepRubenGallego\n",
      "Mentioned User Political Affiliation: Democrat\n",
      "\n",
      "Tweet Text: Our office has always enjoyed hosting the @CongressionalAC. If you know someone interested in participating, visit their website⬇️ for information on this year's challenge. \n",
      "\n",
      "Our community is blessed with so many talented young people, we look forward to this year's submissions! https://twitter.com/CongressionalAC/status/1291404860504580101 QT @CongressionalAC Arizona middle and high school students! \n",
      "@RepRaulGrijalva\n",
      "@RepGosar\n",
      "@RepAndyBiggsAZ\n",
      "@RepDavid\n",
      "@RepRubenGallego\n",
      "@RepDLesko\n",
      "are all hosting App Challenges in the Grand Canyon State. Submit your apps by October 19th: https://www.congressionalappchallenge.us/ \n",
      "#Congress4CS\n",
      "_________\n",
      "Tweet Author: RepFrenchHill\n",
      "Author Political Affiliation: Republican\n",
      "Mentioned User: RepRussFulcher\n",
      "Mentioned User Political Affiliation: Republican\n",
      "\n",
      "Tweet Text: Today, on my 6th trip to the border, I saw again that border security is national security. @RepAndyBiggsAZ, @RepGosar, @RepRussFulcher, @RepGrothman &amp; I met w/ the Chairman &amp; Tribal Council of the Tohono O’odham Nation at the reservation’s San Miguel Gate along Mexico’s border. http://pbs.twimg.com/media/ERB2c1-W4AA_hMF.jpg\n",
      "_________\n",
      "Number of mentions of people in our dataset: 415\n"
     ]
    }
   ],
   "source": [
    "import re\n",
    "\n",
    "mentionedusers = {}  # Create an empty dictionary to hold mentions and associated tweet text\n",
    "\n",
    "# Iterate over rows of congress_tweets\n",
    "for index, row in congress_tweets.iterrows():\n",
    "    # Extract mentions (users starting with @) from the tweet text\n",
    "    mentions = re.findall(r'@([a-zA-Z0-9_]+)', row['text'])\n",
    "    \n",
    "    # Check if any of the mentions are in the congress_tweets['original_screen_name'] list\n",
    "    for mention in mentions:\n",
    "        if mention in congress_tweets['screen_name'].values:\n",
    "            # Find the political affiliation of the person doing the mentioning (the tweet author)\n",
    "            mentioner_affiliation = congress_tweets.loc[congress_tweets['screen_name'] == row['screen_name'], 'party'].values[0]\n",
    "            \n",
    "            # Find the political affiliation of the person being mentioned\n",
    "            mentioned_affiliation = congress_tweets.loc[congress_tweets['screen_name'] == mention, 'party'].values[0]\n",
    "            \n",
    "            # Store the tweet text, the mentioner’s political affiliation, and the mentioned person’s political affiliation in the dictionary\n",
    "            mentionedusers[mention] = {\n",
    "                'mentioner_screen_name': row['screen_name'],  # Add mentioner's screen name\n",
    "                'mentioner_text': row['text'],\n",
    "                'mentioner_affiliation': mentioner_affiliation,\n",
    "                'mentioned_affiliation': mentioned_affiliation\n",
    "            }\n",
    "\n",
    "# Print only the first 5 mentions that are in congress_tweets['original_screen_name'], including political affiliation and the tweet author\n",
    "for i, (mention, details) in enumerate(mentionedusers.items()):\n",
    "    if i >= 5:\n",
    "        break\n",
    "    print(f\"Tweet Author: {details['mentioner_screen_name']}\")\n",
    "    print(f\"Author Political Affiliation: {details['mentioner_affiliation']}\")\n",
    "    print(f\"Mentioned User: {mention}\")\n",
    "    print(f\"Mentioned User Political Affiliation: {details['mentioned_affiliation']}\\n\")\n",
    "    print(f\"Tweet Text: {details['mentioner_text']}\")\n",
    "    print(\"_________\")\n",
    "    \n",
    "print(f\"Number of mentions of people in our dataset: {len(mentionedusers)}\")\n"
   ]
  },
  {
   "cell_type": "markdown",
   "metadata": {},
   "source": [
    "From this, we can see the different ways users are interacting with one another in the form of @'s, retweets, and quote tweets. From even this preview, we can see that it's probably more likely that people are interacting with users of the same political party, and also that we might have some instances where the person re-tweeting is also the mentioned user. In the latter case, I think it's probably safe to assume that the re-poster would endorse the sentiment of the original tweet. "
   ]
  },
  {
   "cell_type": "markdown",
   "metadata": {},
   "source": [
    "## EDA 3"
   ]
  },
  {
   "cell_type": "code",
   "execution_count": null,
   "metadata": {},
   "outputs": [],
   "source": [
    "# create measure of subjectivity\n",
    "# ---------- \n",
    "corpus = st.CorpusFromPandas(congress_tweets[:5000],              # specify data\n",
    "                             category_col = 'Product', # specify the explanatory variable  \n",
    "                             text_col = 'tokens',      # specify the text column\n",
    "                             nlp = nlp).build()        # apply the nlp algorithim and build"
   ]
  },
  {
   "cell_type": "markdown",
   "metadata": {},
   "source": [
    "## Sentiment Analysis"
   ]
  },
  {
   "cell_type": "markdown",
   "metadata": {},
   "source": [
    "Next, let's analyze the sentiments contained within the tweets. You may use TextBlob or another library for these tasks. Do the following:\n",
    "\n",
    "* Choose two legislators, one who you think will be more liberal and one who you think will be more conservative, and analyze their sentiment and/or subjectivity scores per tweet. For instance, you might do two scatterplots that plot each legislator's sentiment against their subjectivity, or two density plots for their sentiments. Do the scores match what you thought?\n",
    "* Plot two more visualizations like the ones you chose in the first part, but do them to compare (1) Democrats v. Republicans and (2) Senators v. Representatives \n",
    "\n",
    "`TextBlob` has already been imported in the top cell."
   ]
  },
  {
   "cell_type": "code",
   "execution_count": 63,
   "metadata": {},
   "outputs": [
    {
     "data": {
      "text/plain": [
       "Ellipsis"
      ]
     },
     "execution_count": 63,
     "metadata": {},
     "output_type": "execute_result"
    }
   ],
   "source": [
    "..."
   ]
  },
  {
   "cell_type": "markdown",
   "metadata": {},
   "source": [
    "## Featurization"
   ]
  },
  {
   "cell_type": "markdown",
   "metadata": {},
   "source": [
    "Before going to classification, explore different featurization techniques. Create three dataframes or arrays to represent your text features, specifically:\n",
    "\n",
    "* Features engineered from your previous analysis. For example, word counts, sentiment scores, topic model etc.\n",
    "* A term frequency-inverse document frequency matrix. \n",
    "* An embedding-based featurization (like a document averaged word2vec)\n",
    "\n",
    "In the next section, you will experiment with each of these featurization techniques to see which one produces the best classifications."
   ]
  },
  {
   "cell_type": "code",
   "execution_count": null,
   "metadata": {},
   "outputs": [],
   "source": [
    "..."
   ]
  },
  {
   "cell_type": "markdown",
   "metadata": {},
   "source": [
    "### Engineered Text Features"
   ]
  },
  {
   "cell_type": "code",
   "execution_count": null,
   "metadata": {},
   "outputs": [],
   "source": [
    "# Engineered Features\n",
    "..."
   ]
  },
  {
   "cell_type": "markdown",
   "metadata": {},
   "source": [
    "### Bag-of-words or Tf-idf"
   ]
  },
  {
   "cell_type": "code",
   "execution_count": null,
   "metadata": {},
   "outputs": [],
   "source": [
    "# Frequency Based featurization\n",
    "..."
   ]
  },
  {
   "cell_type": "markdown",
   "metadata": {},
   "source": [
    "### Word Embedding"
   ]
  },
  {
   "cell_type": "code",
   "execution_count": null,
   "metadata": {},
   "outputs": [],
   "source": [
    "# Load Word2Vec model from Google; OPTIONAL depending on your computational resources (the file is ~1 GB)\n",
    "# Also note that this file path assumes that the word vectors are underneath 'data'; you may wish to point to the CSS course repo and change the path\n",
    "# or move the vector file to the project repo \n",
    "\n",
    "#model = gensim.models.KeyedVectors.load_word2vec_format('data/GoogleNews-vectors-negative300.bin.gz', binary = True) "
   ]
  },
  {
   "cell_type": "code",
   "execution_count": null,
   "metadata": {},
   "outputs": [],
   "source": [
    "# Function to average word embeddings for a document; use examples from lab to apply this function. You can use also other techniques such as PCA and doc2vec instead.\n",
    "def document_vector(word2vec_model, doc):\n",
    "    doc = [word for word in doc if word in model.vocab]\n",
    "    return np.mean(model[doc], axis=0)"
   ]
  },
  {
   "cell_type": "code",
   "execution_count": null,
   "metadata": {},
   "outputs": [],
   "source": [
    "# embedding based featurization\n",
    "..."
   ]
  },
  {
   "cell_type": "markdown",
   "metadata": {},
   "source": [
    "## Classification"
   ]
  },
  {
   "cell_type": "markdown",
   "metadata": {},
   "source": [
    "Either use cross-validation or partition your data with training/validation/test sets for this section. Do the following:\n",
    "\n",
    "* Choose a supervised learning algorithm such as logistic regression, random forest etc. \n",
    "* Train six models. For each of the three dataframes you created in the featurization part, train one model to predict whether the author of the tweet is a Democrat or Republican, and a second model to predict whether the author is a Senator or Representative.\n",
    "* Report the accuracy and other relevant metrics for each of these six models.\n",
    "* Choose the featurization technique associated with your best model. Combine those text features with non-text features. Train two more models: (1) A supervised learning algorithm that uses just the non-text features and (2) a supervised learning algorithm that combines text and non-text features. Report accuracy and other relevant metrics. \n",
    "\n",
    "If time permits, you are encouraged to use hyperparameter tuning or AutoML techniques like TPOT, but are not explicitly required to do so."
   ]
  },
  {
   "cell_type": "markdown",
   "metadata": {},
   "source": [
    "### Train Six Models with Just Text"
   ]
  },
  {
   "cell_type": "code",
   "execution_count": null,
   "metadata": {},
   "outputs": [],
   "source": [
    "# six models ([engineered features, frequency-based, embedding] * [democrat/republican, senator/representative])\n",
    "..."
   ]
  },
  {
   "cell_type": "markdown",
   "metadata": {},
   "source": [
    "### Two Combined Models"
   ]
  },
  {
   "cell_type": "code",
   "execution_count": null,
   "metadata": {},
   "outputs": [],
   "source": [
    "# two models ([best text features + non-text features] * [democrat/republican, senator/representative])\n",
    "..."
   ]
  },
  {
   "cell_type": "markdown",
   "metadata": {},
   "source": [
    "## Discussion Questions"
   ]
  },
  {
   "cell_type": "markdown",
   "metadata": {},
   "source": [
    "1. Why do standard preprocessing techniques need to be further customized to a particular corpus?"
   ]
  },
  {
   "cell_type": "markdown",
   "metadata": {},
   "source": [
    "**YOUR ANSWER HERE** ..."
   ]
  },
  {
   "cell_type": "markdown",
   "metadata": {},
   "source": [
    "2. Did you find evidence for the idea that Democrats and Republicans have different sentiments in their tweets? What about Senators and Representatives?"
   ]
  },
  {
   "cell_type": "markdown",
   "metadata": {},
   "source": [
    "**YOUR ANSWER HERE** ..."
   ]
  },
  {
   "cell_type": "markdown",
   "metadata": {},
   "source": [
    "3. Why is validating your exploratory and unsupervised learning approaches with a supervised learning algorithm valuable?"
   ]
  },
  {
   "cell_type": "markdown",
   "metadata": {},
   "source": [
    "**YOUR ANSWER HERE** ..."
   ]
  },
  {
   "cell_type": "markdown",
   "metadata": {},
   "source": [
    "4. Did text only, non-text only, or text and non-text features together perform the best? What is the intuition behind combining text and non-text features in a supervised learning algorithm?"
   ]
  },
  {
   "cell_type": "markdown",
   "metadata": {},
   "source": [
    "**YOUR ANSWER HERE** ..."
   ]
  }
 ],
 "metadata": {
  "kernelspec": {
   "display_name": "Python 3 (ipykernel)",
   "language": "python",
   "name": "python3"
  },
  "language_info": {
   "codemirror_mode": {
    "name": "ipython",
    "version": 3
   },
   "file_extension": ".py",
   "mimetype": "text/x-python",
   "name": "python",
   "nbconvert_exporter": "python",
   "pygments_lexer": "ipython3",
   "version": "3.12.4"
  }
 },
 "nbformat": 4,
 "nbformat_minor": 4
}
