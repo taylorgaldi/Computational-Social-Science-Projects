{
 "cells": [
  {
   "cell_type": "markdown",
   "metadata": {},
   "source": [
    "## [Computational Social Science] Project 5: Natural Language Processing"
   ]
  },
  {
   "cell_type": "markdown",
   "metadata": {},
   "source": [
    "In this project, you will use natural language processing techniques to explore a dataset containing tweets from members of the 116th United States Congress that met from January 3, 2019 to January 2, 2021. The dataset has also been cleaned to contain information about each legislator. Concretely, you will do the following:\n",
    "\n",
    "* Preprocess the text of legislators' tweets\n",
    "* Conduct Exploratory Data Analysis of the text\n",
    "* Use sentiment analysis to explore differences between legislators' tweets\n",
    "* Featurize text with manual feature engineering, frequency-based, and vector-based techniques\n",
    "* Predict legislators' political parties and whether they are a Senator or Representative\n",
    "\n",
    "You will explore two questions that relate to two central findings in political science and examine how they relate to the text of legislators' tweets. First, political scientists have argued that U.S. politics is currently highly polarized relative to other periods in American history, but also that the polarization is asymmetric. Historically, there were several conservative Democrats (i.e. \"blue dog Democrats\") and liberal Republicans (i.e. \"Rockefeller Republicans\"), as measured by popular measurement tools like [DW-NOMINATE](https://en.wikipedia.org/wiki/NOMINATE_(scaling_method)#:~:text=DW\\%2DNOMINATE\\%20scores\\%20have\\%20been,in\\%20the\\%20liberal\\%2Dconservative\\%20scale.). However, in the last few years, there are few if any examples of any Democrat in Congress being further to the right than any Republican and vice versa. At the same time, scholars have argued that this polarization is mostly a function of the Republican party moving further right than the Democratic party has moved left. **Does this sort of asymmetric polarization show up in how politicians communicate to their constituents through tweets?**\n",
    "\n",
    "Second, the U.S. Congress is a bicameral legislature, and there has long been debate about partisanship in the Senate versus the House. The House of Representatives is apportioned by population and all members serve two year terms. In the Senate, each state receives two Senators and each Senator serves a term of six years. For a variety of reasons (smaller chamber size, more insulation from the voters, rules and norms like the filibuster, etc.), the Senate has been argued to be the \"cooling saucer\" of Congress in that it is more bipartisan and moderate than the House. **Does the theory that the Senate is more moderate have support in Senators' tweets?**\n",
    "\n",
    "**Note**: See the project handout for more details on caveats and the data dictionary."
   ]
  },
  {
   "cell_type": "code",
   "execution_count": 1,
   "metadata": {},
   "outputs": [
    {
     "ename": "ImportError",
     "evalue": "cannot import name 'triu' from 'scipy.linalg' (/opt/anaconda3/envs/CSS/lib/python3.12/site-packages/scipy/linalg/__init__.py)",
     "output_type": "error",
     "traceback": [
      "\u001b[0;31m---------------------------------------------------------------------------\u001b[0m",
      "\u001b[0;31mImportError\u001b[0m                               Traceback (most recent call last)",
      "Cell \u001b[0;32mIn[1], line 18\u001b[0m\n\u001b[1;32m     15\u001b[0m \u001b[38;5;28;01mfrom\u001b[39;00m \u001b[38;5;21;01msklearn\u001b[39;00m\u001b[38;5;21;01m.\u001b[39;00m\u001b[38;5;21;01mfeature_extraction\u001b[39;00m\u001b[38;5;21;01m.\u001b[39;00m\u001b[38;5;21;01mtext\u001b[39;00m \u001b[38;5;28;01mimport\u001b[39;00m CountVectorizer, TfidfVectorizer\n\u001b[1;32m     17\u001b[0m \u001b[38;5;66;03m# gensim\u001b[39;00m\n\u001b[0;32m---> 18\u001b[0m \u001b[38;5;28;01mimport\u001b[39;00m \u001b[38;5;21;01mgensim\u001b[39;00m\n\u001b[1;32m     19\u001b[0m \u001b[38;5;28;01mfrom\u001b[39;00m \u001b[38;5;21;01mgensim\u001b[39;00m \u001b[38;5;28;01mimport\u001b[39;00m models\n\u001b[1;32m     21\u001b[0m \u001b[38;5;66;03m# plotting\u001b[39;00m\n",
      "File \u001b[0;32m/opt/anaconda3/envs/CSS/lib/python3.12/site-packages/gensim/__init__.py:11\u001b[0m\n\u001b[1;32m      7\u001b[0m __version__ \u001b[38;5;241m=\u001b[39m \u001b[38;5;124m'\u001b[39m\u001b[38;5;124m4.3.2\u001b[39m\u001b[38;5;124m'\u001b[39m\n\u001b[1;32m      9\u001b[0m \u001b[38;5;28;01mimport\u001b[39;00m \u001b[38;5;21;01mlogging\u001b[39;00m\n\u001b[0;32m---> 11\u001b[0m \u001b[38;5;28;01mfrom\u001b[39;00m \u001b[38;5;21;01mgensim\u001b[39;00m \u001b[38;5;28;01mimport\u001b[39;00m parsing, corpora, matutils, interfaces, models, similarities, utils  \u001b[38;5;66;03m# noqa:F401\u001b[39;00m\n\u001b[1;32m     14\u001b[0m logger \u001b[38;5;241m=\u001b[39m logging\u001b[38;5;241m.\u001b[39mgetLogger(\u001b[38;5;124m'\u001b[39m\u001b[38;5;124mgensim\u001b[39m\u001b[38;5;124m'\u001b[39m)\n\u001b[1;32m     15\u001b[0m \u001b[38;5;28;01mif\u001b[39;00m \u001b[38;5;129;01mnot\u001b[39;00m logger\u001b[38;5;241m.\u001b[39mhandlers:  \u001b[38;5;66;03m# To ensure reload() doesn't add another one\u001b[39;00m\n",
      "File \u001b[0;32m/opt/anaconda3/envs/CSS/lib/python3.12/site-packages/gensim/corpora/__init__.py:6\u001b[0m\n\u001b[1;32m      1\u001b[0m \u001b[38;5;124;03m\"\"\"\u001b[39;00m\n\u001b[1;32m      2\u001b[0m \u001b[38;5;124;03mThis package contains implementations of various streaming corpus I/O format.\u001b[39;00m\n\u001b[1;32m      3\u001b[0m \u001b[38;5;124;03m\"\"\"\u001b[39;00m\n\u001b[1;32m      5\u001b[0m \u001b[38;5;66;03m# bring corpus classes directly into package namespace, to save some typing\u001b[39;00m\n\u001b[0;32m----> 6\u001b[0m \u001b[38;5;28;01mfrom\u001b[39;00m \u001b[38;5;21;01m.\u001b[39;00m\u001b[38;5;21;01mindexedcorpus\u001b[39;00m \u001b[38;5;28;01mimport\u001b[39;00m IndexedCorpus  \u001b[38;5;66;03m# noqa:F401 must appear before the other classes\u001b[39;00m\n\u001b[1;32m      8\u001b[0m \u001b[38;5;28;01mfrom\u001b[39;00m \u001b[38;5;21;01m.\u001b[39;00m\u001b[38;5;21;01mmmcorpus\u001b[39;00m \u001b[38;5;28;01mimport\u001b[39;00m MmCorpus  \u001b[38;5;66;03m# noqa:F401\u001b[39;00m\n\u001b[1;32m      9\u001b[0m \u001b[38;5;28;01mfrom\u001b[39;00m \u001b[38;5;21;01m.\u001b[39;00m\u001b[38;5;21;01mbleicorpus\u001b[39;00m \u001b[38;5;28;01mimport\u001b[39;00m BleiCorpus  \u001b[38;5;66;03m# noqa:F401\u001b[39;00m\n",
      "File \u001b[0;32m/opt/anaconda3/envs/CSS/lib/python3.12/site-packages/gensim/corpora/indexedcorpus.py:14\u001b[0m\n\u001b[1;32m     10\u001b[0m \u001b[38;5;28;01mimport\u001b[39;00m \u001b[38;5;21;01mlogging\u001b[39;00m\n\u001b[1;32m     12\u001b[0m \u001b[38;5;28;01mimport\u001b[39;00m \u001b[38;5;21;01mnumpy\u001b[39;00m\n\u001b[0;32m---> 14\u001b[0m \u001b[38;5;28;01mfrom\u001b[39;00m \u001b[38;5;21;01mgensim\u001b[39;00m \u001b[38;5;28;01mimport\u001b[39;00m interfaces, utils\n\u001b[1;32m     16\u001b[0m logger \u001b[38;5;241m=\u001b[39m logging\u001b[38;5;241m.\u001b[39mgetLogger(\u001b[38;5;18m__name__\u001b[39m)\n\u001b[1;32m     19\u001b[0m \u001b[38;5;28;01mclass\u001b[39;00m \u001b[38;5;21;01mIndexedCorpus\u001b[39;00m(interfaces\u001b[38;5;241m.\u001b[39mCorpusABC):\n",
      "File \u001b[0;32m/opt/anaconda3/envs/CSS/lib/python3.12/site-packages/gensim/interfaces.py:19\u001b[0m\n\u001b[1;32m      7\u001b[0m \u001b[38;5;124;03m\"\"\"Basic interfaces used across the whole Gensim package.\u001b[39;00m\n\u001b[1;32m      8\u001b[0m \n\u001b[1;32m      9\u001b[0m \u001b[38;5;124;03mThese interfaces are used for building corpora, model transformation and similarity queries.\u001b[39;00m\n\u001b[0;32m   (...)\u001b[0m\n\u001b[1;32m     14\u001b[0m \n\u001b[1;32m     15\u001b[0m \u001b[38;5;124;03m\"\"\"\u001b[39;00m\n\u001b[1;32m     17\u001b[0m \u001b[38;5;28;01mimport\u001b[39;00m \u001b[38;5;21;01mlogging\u001b[39;00m\n\u001b[0;32m---> 19\u001b[0m \u001b[38;5;28;01mfrom\u001b[39;00m \u001b[38;5;21;01mgensim\u001b[39;00m \u001b[38;5;28;01mimport\u001b[39;00m utils, matutils\n\u001b[1;32m     22\u001b[0m logger \u001b[38;5;241m=\u001b[39m logging\u001b[38;5;241m.\u001b[39mgetLogger(\u001b[38;5;18m__name__\u001b[39m)\n\u001b[1;32m     25\u001b[0m \u001b[38;5;28;01mclass\u001b[39;00m \u001b[38;5;21;01mCorpusABC\u001b[39;00m(utils\u001b[38;5;241m.\u001b[39mSaveLoad):\n",
      "File \u001b[0;32m/opt/anaconda3/envs/CSS/lib/python3.12/site-packages/gensim/matutils.py:20\u001b[0m\n\u001b[1;32m     18\u001b[0m \u001b[38;5;28;01mimport\u001b[39;00m \u001b[38;5;21;01mscipy\u001b[39;00m\u001b[38;5;21;01m.\u001b[39;00m\u001b[38;5;21;01msparse\u001b[39;00m\n\u001b[1;32m     19\u001b[0m \u001b[38;5;28;01mfrom\u001b[39;00m \u001b[38;5;21;01mscipy\u001b[39;00m\u001b[38;5;21;01m.\u001b[39;00m\u001b[38;5;21;01mstats\u001b[39;00m \u001b[38;5;28;01mimport\u001b[39;00m entropy\n\u001b[0;32m---> 20\u001b[0m \u001b[38;5;28;01mfrom\u001b[39;00m \u001b[38;5;21;01mscipy\u001b[39;00m\u001b[38;5;21;01m.\u001b[39;00m\u001b[38;5;21;01mlinalg\u001b[39;00m \u001b[38;5;28;01mimport\u001b[39;00m get_blas_funcs, triu\n\u001b[1;32m     21\u001b[0m \u001b[38;5;28;01mfrom\u001b[39;00m \u001b[38;5;21;01mscipy\u001b[39;00m\u001b[38;5;21;01m.\u001b[39;00m\u001b[38;5;21;01mlinalg\u001b[39;00m\u001b[38;5;21;01m.\u001b[39;00m\u001b[38;5;21;01mlapack\u001b[39;00m \u001b[38;5;28;01mimport\u001b[39;00m get_lapack_funcs\n\u001b[1;32m     22\u001b[0m \u001b[38;5;28;01mfrom\u001b[39;00m \u001b[38;5;21;01mscipy\u001b[39;00m\u001b[38;5;21;01m.\u001b[39;00m\u001b[38;5;21;01mspecial\u001b[39;00m \u001b[38;5;28;01mimport\u001b[39;00m psi  \u001b[38;5;66;03m# gamma function utils\u001b[39;00m\n",
      "\u001b[0;31mImportError\u001b[0m: cannot import name 'triu' from 'scipy.linalg' (/opt/anaconda3/envs/CSS/lib/python3.12/site-packages/scipy/linalg/__init__.py)"
     ]
    }
   ],
   "source": [
    "# pandas and numpy\n",
    "import pandas as pd\n",
    "import numpy as numpy\n",
    "\n",
    "# punctuation, stop words and English language model\n",
    "from string import punctuation\n",
    "from spacy.lang.en.stop_words import STOP_WORDS\n",
    "import en_core_web_sm\n",
    "nlp = en_core_web_sm.load()\n",
    "\n",
    "# textblob\n",
    "from textblob import TextBlob\n",
    "\n",
    "# countvectorizer, tfidfvectorizer\n",
    "from sklearn.feature_extraction.text import CountVectorizer, TfidfVectorizer\n",
    "\n",
    "# gensim\n",
    "import gensim\n",
    "from gensim import models\n",
    "\n",
    "# plotting\n",
    "import matplotlib.pyplot as plt\n",
    "import seaborn as sns\n",
    "%matplotlib inline"
   ]
  },
  {
   "cell_type": "code",
   "execution_count": 2,
   "metadata": {},
   "outputs": [
    {
     "data": {
      "text/html": [
       "<div>\n",
       "<style scoped>\n",
       "    .dataframe tbody tr th:only-of-type {\n",
       "        vertical-align: middle;\n",
       "    }\n",
       "\n",
       "    .dataframe tbody tr th {\n",
       "        vertical-align: top;\n",
       "    }\n",
       "\n",
       "    .dataframe thead th {\n",
       "        text-align: right;\n",
       "    }\n",
       "</style>\n",
       "<table border=\"1\" class=\"dataframe\">\n",
       "  <thead>\n",
       "    <tr style=\"text-align: right;\">\n",
       "      <th></th>\n",
       "      <th>tweet_id</th>\n",
       "      <th>screen_name</th>\n",
       "      <th>datetime</th>\n",
       "      <th>text</th>\n",
       "      <th>name_wikipedia</th>\n",
       "      <th>position</th>\n",
       "      <th>joined_congress_date</th>\n",
       "      <th>birthday</th>\n",
       "      <th>gender</th>\n",
       "      <th>state</th>\n",
       "      <th>district_number</th>\n",
       "      <th>party</th>\n",
       "      <th>trump_2016_state_share</th>\n",
       "      <th>clinton_2016_state_share</th>\n",
       "      <th>obama_2012_state_share</th>\n",
       "      <th>romney_2012_state_share</th>\n",
       "    </tr>\n",
       "  </thead>\n",
       "  <tbody>\n",
       "    <tr>\n",
       "      <th>632508</th>\n",
       "      <td>1.124350e+18</td>\n",
       "      <td>WarrenDavidson</td>\n",
       "      <td>2019-05-03T12:29:48-04:00</td>\n",
       "      <td>Today’s jobs report indicates the lowest unemp...</td>\n",
       "      <td>Warren Davidson</td>\n",
       "      <td>Rep</td>\n",
       "      <td>7-Jun-16</td>\n",
       "      <td>3/1/1970</td>\n",
       "      <td>M</td>\n",
       "      <td>OH</td>\n",
       "      <td>8</td>\n",
       "      <td>Republican</td>\n",
       "      <td>2,841,005</td>\n",
       "      <td>2,394,164</td>\n",
       "      <td>2,827,709</td>\n",
       "      <td>2,661,437</td>\n",
       "    </tr>\n",
       "    <tr>\n",
       "      <th>43304</th>\n",
       "      <td>1.324500e+18</td>\n",
       "      <td>RepAndyBiggsAZ</td>\n",
       "      <td>2020-11-05T19:02:02-05:00</td>\n",
       "      <td>There’s no context to your numbers. You have a...</td>\n",
       "      <td>Andy Biggs</td>\n",
       "      <td>Rep</td>\n",
       "      <td>3-Jan-17</td>\n",
       "      <td>11/7/1958</td>\n",
       "      <td>M</td>\n",
       "      <td>AZ</td>\n",
       "      <td>5</td>\n",
       "      <td>Republican</td>\n",
       "      <td>1,252,401</td>\n",
       "      <td>1,161,167</td>\n",
       "      <td>1,025,232</td>\n",
       "      <td>1,233,654</td>\n",
       "    </tr>\n",
       "    <tr>\n",
       "      <th>564765</th>\n",
       "      <td>1.149750e+18</td>\n",
       "      <td>RepGregoryMeeks</td>\n",
       "      <td>2019-07-12T14:38:35-04:00</td>\n",
       "      <td>RT @RepMaloney My bill to #renew911VCF just pa...</td>\n",
       "      <td>Gregory Meeks</td>\n",
       "      <td>Rep</td>\n",
       "      <td>3-Feb-98</td>\n",
       "      <td>9/25/1953</td>\n",
       "      <td>M</td>\n",
       "      <td>NY</td>\n",
       "      <td>5</td>\n",
       "      <td>Democrat</td>\n",
       "      <td>2,819,533</td>\n",
       "      <td>4,556,118</td>\n",
       "      <td>4,485,741</td>\n",
       "      <td>2,490,431</td>\n",
       "    </tr>\n",
       "    <tr>\n",
       "      <th>933290</th>\n",
       "      <td>1.126910e+18</td>\n",
       "      <td>RepGrothman</td>\n",
       "      <td>2019-05-10T14:00:01-04:00</td>\n",
       "      <td>Last night, I spoke on the House Floor about t...</td>\n",
       "      <td>Glenn Grothman</td>\n",
       "      <td>Rep</td>\n",
       "      <td>3-Jan-15</td>\n",
       "      <td>7/3/1955</td>\n",
       "      <td>M</td>\n",
       "      <td>WI</td>\n",
       "      <td>6</td>\n",
       "      <td>Republican</td>\n",
       "      <td>1,405,284</td>\n",
       "      <td>1,382,536</td>\n",
       "      <td>1,620,985</td>\n",
       "      <td>1,407,966</td>\n",
       "    </tr>\n",
       "    <tr>\n",
       "      <th>151336</th>\n",
       "      <td>1.322260e+18</td>\n",
       "      <td>RepMikeLevin</td>\n",
       "      <td>2020-10-30T15:47:19-04:00</td>\n",
       "      <td>Reminder! Now is the time to drop your ballot ...</td>\n",
       "      <td>Mike Levin</td>\n",
       "      <td>Rep</td>\n",
       "      <td>3-Jan-19</td>\n",
       "      <td>10/28/1978</td>\n",
       "      <td>M</td>\n",
       "      <td>CA</td>\n",
       "      <td>49</td>\n",
       "      <td>Democrat</td>\n",
       "      <td>4,483,814</td>\n",
       "      <td>8,753,792</td>\n",
       "      <td>7,854,285</td>\n",
       "      <td>4,839,958</td>\n",
       "    </tr>\n",
       "  </tbody>\n",
       "</table>\n",
       "</div>"
      ],
      "text/plain": [
       "            tweet_id      screen_name                   datetime  \\\n",
       "632508  1.124350e+18   WarrenDavidson  2019-05-03T12:29:48-04:00   \n",
       "43304   1.324500e+18   RepAndyBiggsAZ  2020-11-05T19:02:02-05:00   \n",
       "564765  1.149750e+18  RepGregoryMeeks  2019-07-12T14:38:35-04:00   \n",
       "933290  1.126910e+18      RepGrothman  2019-05-10T14:00:01-04:00   \n",
       "151336  1.322260e+18     RepMikeLevin  2020-10-30T15:47:19-04:00   \n",
       "\n",
       "                                                     text   name_wikipedia  \\\n",
       "632508  Today’s jobs report indicates the lowest unemp...  Warren Davidson   \n",
       "43304   There’s no context to your numbers. You have a...       Andy Biggs   \n",
       "564765  RT @RepMaloney My bill to #renew911VCF just pa...    Gregory Meeks   \n",
       "933290  Last night, I spoke on the House Floor about t...   Glenn Grothman   \n",
       "151336  Reminder! Now is the time to drop your ballot ...       Mike Levin   \n",
       "\n",
       "       position joined_congress_date    birthday gender state district_number  \\\n",
       "632508      Rep             7-Jun-16    3/1/1970      M    OH               8   \n",
       "43304       Rep             3-Jan-17   11/7/1958      M    AZ               5   \n",
       "564765      Rep             3-Feb-98   9/25/1953      M    NY               5   \n",
       "933290      Rep             3-Jan-15    7/3/1955      M    WI               6   \n",
       "151336      Rep             3-Jan-19  10/28/1978      M    CA              49   \n",
       "\n",
       "             party trump_2016_state_share clinton_2016_state_share  \\\n",
       "632508  Republican              2,841,005                2,394,164   \n",
       "43304   Republican              1,252,401                1,161,167   \n",
       "564765    Democrat              2,819,533                4,556,118   \n",
       "933290  Republican              1,405,284                1,382,536   \n",
       "151336    Democrat              4,483,814                8,753,792   \n",
       "\n",
       "       obama_2012_state_share romney_2012_state_share  \n",
       "632508              2,827,709               2,661,437  \n",
       "43304               1,025,232               1,233,654  \n",
       "564765              4,485,741               2,490,431  \n",
       "933290              1,620,985               1,407,966  \n",
       "151336              7,854,285               4,839,958  "
      ]
     },
     "execution_count": 2,
     "metadata": {},
     "output_type": "execute_result"
    }
   ],
   "source": [
    "# load data \n",
    "# ----------\n",
    "congress_tweets = pd.read_csv(\"data/116th Congressional Tweets and Demographics.csv\")\n",
    "# fill in this line of code with a sufficient number of tweets, depending on your computational resources\n",
    "congress_tweets = congress_tweets.sample(n=1000)\n",
    "congress_tweets.head()"
   ]
  },
  {
   "cell_type": "code",
   "execution_count": 3,
   "metadata": {},
   "outputs": [
    {
     "data": {
      "text/html": [
       "<div>\n",
       "<style scoped>\n",
       "    .dataframe tbody tr th:only-of-type {\n",
       "        vertical-align: middle;\n",
       "    }\n",
       "\n",
       "    .dataframe tbody tr th {\n",
       "        vertical-align: top;\n",
       "    }\n",
       "\n",
       "    .dataframe thead th {\n",
       "        text-align: right;\n",
       "    }\n",
       "</style>\n",
       "<table border=\"1\" class=\"dataframe\">\n",
       "  <thead>\n",
       "    <tr style=\"text-align: right;\">\n",
       "      <th></th>\n",
       "      <th>tweet_id</th>\n",
       "      <th>screen_name</th>\n",
       "      <th>datetime</th>\n",
       "      <th>text</th>\n",
       "      <th>name_wikipedia</th>\n",
       "      <th>position</th>\n",
       "      <th>joined_congress_date</th>\n",
       "      <th>birthday</th>\n",
       "      <th>gender</th>\n",
       "      <th>state</th>\n",
       "      <th>district_number</th>\n",
       "      <th>party</th>\n",
       "      <th>trump_2016_state_share</th>\n",
       "      <th>clinton_2016_state_share</th>\n",
       "      <th>obama_2012_state_share</th>\n",
       "      <th>romney_2012_state_share</th>\n",
       "      <th>party_2012</th>\n",
       "      <th>party_2016</th>\n",
       "    </tr>\n",
       "  </thead>\n",
       "  <tbody>\n",
       "    <tr>\n",
       "      <th>632508</th>\n",
       "      <td>1.124350e+18</td>\n",
       "      <td>WarrenDavidson</td>\n",
       "      <td>2019-05-03T12:29:48-04:00</td>\n",
       "      <td>Today’s jobs report indicates the lowest unemp...</td>\n",
       "      <td>Warren Davidson</td>\n",
       "      <td>Rep</td>\n",
       "      <td>7-Jun-16</td>\n",
       "      <td>3/1/1970</td>\n",
       "      <td>M</td>\n",
       "      <td>OH</td>\n",
       "      <td>8</td>\n",
       "      <td>Republican</td>\n",
       "      <td>2,841,005</td>\n",
       "      <td>2,394,164</td>\n",
       "      <td>2,827,709</td>\n",
       "      <td>2,661,437</td>\n",
       "      <td>Democrat2012</td>\n",
       "      <td>Republican2016</td>\n",
       "    </tr>\n",
       "    <tr>\n",
       "      <th>43304</th>\n",
       "      <td>1.324500e+18</td>\n",
       "      <td>RepAndyBiggsAZ</td>\n",
       "      <td>2020-11-05T19:02:02-05:00</td>\n",
       "      <td>There’s no context to your numbers. You have a...</td>\n",
       "      <td>Andy Biggs</td>\n",
       "      <td>Rep</td>\n",
       "      <td>3-Jan-17</td>\n",
       "      <td>11/7/1958</td>\n",
       "      <td>M</td>\n",
       "      <td>AZ</td>\n",
       "      <td>5</td>\n",
       "      <td>Republican</td>\n",
       "      <td>1,252,401</td>\n",
       "      <td>1,161,167</td>\n",
       "      <td>1,025,232</td>\n",
       "      <td>1,233,654</td>\n",
       "      <td>Republican2012</td>\n",
       "      <td>Republican2016</td>\n",
       "    </tr>\n",
       "    <tr>\n",
       "      <th>564765</th>\n",
       "      <td>1.149750e+18</td>\n",
       "      <td>RepGregoryMeeks</td>\n",
       "      <td>2019-07-12T14:38:35-04:00</td>\n",
       "      <td>RT @RepMaloney My bill to #renew911VCF just pa...</td>\n",
       "      <td>Gregory Meeks</td>\n",
       "      <td>Rep</td>\n",
       "      <td>3-Feb-98</td>\n",
       "      <td>9/25/1953</td>\n",
       "      <td>M</td>\n",
       "      <td>NY</td>\n",
       "      <td>5</td>\n",
       "      <td>Democrat</td>\n",
       "      <td>2,819,533</td>\n",
       "      <td>4,556,118</td>\n",
       "      <td>4,485,741</td>\n",
       "      <td>2,490,431</td>\n",
       "      <td>Democrat2012</td>\n",
       "      <td>Democrat2016</td>\n",
       "    </tr>\n",
       "    <tr>\n",
       "      <th>933290</th>\n",
       "      <td>1.126910e+18</td>\n",
       "      <td>RepGrothman</td>\n",
       "      <td>2019-05-10T14:00:01-04:00</td>\n",
       "      <td>Last night, I spoke on the House Floor about t...</td>\n",
       "      <td>Glenn Grothman</td>\n",
       "      <td>Rep</td>\n",
       "      <td>3-Jan-15</td>\n",
       "      <td>7/3/1955</td>\n",
       "      <td>M</td>\n",
       "      <td>WI</td>\n",
       "      <td>6</td>\n",
       "      <td>Republican</td>\n",
       "      <td>1,405,284</td>\n",
       "      <td>1,382,536</td>\n",
       "      <td>1,620,985</td>\n",
       "      <td>1,407,966</td>\n",
       "      <td>Democrat2012</td>\n",
       "      <td>Republican2016</td>\n",
       "    </tr>\n",
       "    <tr>\n",
       "      <th>151336</th>\n",
       "      <td>1.322260e+18</td>\n",
       "      <td>RepMikeLevin</td>\n",
       "      <td>2020-10-30T15:47:19-04:00</td>\n",
       "      <td>Reminder! Now is the time to drop your ballot ...</td>\n",
       "      <td>Mike Levin</td>\n",
       "      <td>Rep</td>\n",
       "      <td>3-Jan-19</td>\n",
       "      <td>10/28/1978</td>\n",
       "      <td>M</td>\n",
       "      <td>CA</td>\n",
       "      <td>49</td>\n",
       "      <td>Democrat</td>\n",
       "      <td>4,483,814</td>\n",
       "      <td>8,753,792</td>\n",
       "      <td>7,854,285</td>\n",
       "      <td>4,839,958</td>\n",
       "      <td>Democrat2012</td>\n",
       "      <td>Democrat2016</td>\n",
       "    </tr>\n",
       "  </tbody>\n",
       "</table>\n",
       "</div>"
      ],
      "text/plain": [
       "            tweet_id      screen_name                   datetime  \\\n",
       "632508  1.124350e+18   WarrenDavidson  2019-05-03T12:29:48-04:00   \n",
       "43304   1.324500e+18   RepAndyBiggsAZ  2020-11-05T19:02:02-05:00   \n",
       "564765  1.149750e+18  RepGregoryMeeks  2019-07-12T14:38:35-04:00   \n",
       "933290  1.126910e+18      RepGrothman  2019-05-10T14:00:01-04:00   \n",
       "151336  1.322260e+18     RepMikeLevin  2020-10-30T15:47:19-04:00   \n",
       "\n",
       "                                                     text   name_wikipedia  \\\n",
       "632508  Today’s jobs report indicates the lowest unemp...  Warren Davidson   \n",
       "43304   There’s no context to your numbers. You have a...       Andy Biggs   \n",
       "564765  RT @RepMaloney My bill to #renew911VCF just pa...    Gregory Meeks   \n",
       "933290  Last night, I spoke on the House Floor about t...   Glenn Grothman   \n",
       "151336  Reminder! Now is the time to drop your ballot ...       Mike Levin   \n",
       "\n",
       "       position joined_congress_date    birthday gender state district_number  \\\n",
       "632508      Rep             7-Jun-16    3/1/1970      M    OH               8   \n",
       "43304       Rep             3-Jan-17   11/7/1958      M    AZ               5   \n",
       "564765      Rep             3-Feb-98   9/25/1953      M    NY               5   \n",
       "933290      Rep             3-Jan-15    7/3/1955      M    WI               6   \n",
       "151336      Rep             3-Jan-19  10/28/1978      M    CA              49   \n",
       "\n",
       "             party trump_2016_state_share clinton_2016_state_share  \\\n",
       "632508  Republican              2,841,005                2,394,164   \n",
       "43304   Republican              1,252,401                1,161,167   \n",
       "564765    Democrat              2,819,533                4,556,118   \n",
       "933290  Republican              1,405,284                1,382,536   \n",
       "151336    Democrat              4,483,814                8,753,792   \n",
       "\n",
       "       obama_2012_state_share romney_2012_state_share      party_2012  \\\n",
       "632508              2,827,709               2,661,437    Democrat2012   \n",
       "43304               1,025,232               1,233,654  Republican2012   \n",
       "564765              4,485,741               2,490,431    Democrat2012   \n",
       "933290              1,620,985               1,407,966    Democrat2012   \n",
       "151336              7,854,285               4,839,958    Democrat2012   \n",
       "\n",
       "            party_2016  \n",
       "632508  Republican2016  \n",
       "43304   Republican2016  \n",
       "564765    Democrat2016  \n",
       "933290  Republican2016  \n",
       "151336    Democrat2016  "
      ]
     },
     "execution_count": 3,
     "metadata": {},
     "output_type": "execute_result"
    }
   ],
   "source": [
    "#Create dictionary for states' 2012 and 2016 election results, store it in dataset because we probably will do some change over time stuff related to RQ2\n",
    "\n",
    "mappedstates = {}  # Create an empty dictionary to hold state mappings\n",
    "\n",
    "# Iterate over rows for 2012 data\n",
    "for index, row in congress_tweets.iterrows():\n",
    "    if row['obama_2012_state_share'] > row['romney_2012_state_share']:\n",
    "        mappedstates[row['state']] = ['Democrat2012', None]  # Assign Democrat for 2012\n",
    "    else:\n",
    "        mappedstates[row['state']] = ['Republican2012', None]  # Assign Republican for 2012\n",
    "\n",
    "# Iterate over rows for 2016 data and update mappings\n",
    "for index, row in congress_tweets.iterrows():\n",
    "    if row['clinton_2016_state_share'] > row['trump_2016_state_share']:\n",
    "        mappedstates[row['state']][1] = 'Democrat2016'  # Update 2016 to Democrat\n",
    "    else:\n",
    "        mappedstates[row['state']][1] = 'Republican2016'  # Update 2016 to Republican\n",
    "\n",
    "# Create new columns for party affiliation in 2012 and 2016\n",
    "congress_tweets['party_2012'] = congress_tweets['state'].map(lambda state: mappedstates.get(state, [None, None])[0])\n",
    "congress_tweets['party_2016'] = congress_tweets['state'].map(lambda state: mappedstates.get(state, [None, None])[1])\n",
    "\n",
    "# Check the updated DataFrame\n",
    "congress_tweets.head()"
   ]
  },
  {
   "cell_type": "code",
   "execution_count": 4,
   "metadata": {},
   "outputs": [
    {
     "data": {
      "text/html": [
       "<div>\n",
       "<style scoped>\n",
       "    .dataframe tbody tr th:only-of-type {\n",
       "        vertical-align: middle;\n",
       "    }\n",
       "\n",
       "    .dataframe tbody tr th {\n",
       "        vertical-align: top;\n",
       "    }\n",
       "\n",
       "    .dataframe thead th {\n",
       "        text-align: right;\n",
       "    }\n",
       "</style>\n",
       "<table border=\"1\" class=\"dataframe\">\n",
       "  <thead>\n",
       "    <tr style=\"text-align: right;\">\n",
       "      <th></th>\n",
       "      <th>tweet_id</th>\n",
       "      <th>screen_name</th>\n",
       "      <th>datetime</th>\n",
       "      <th>text</th>\n",
       "      <th>name_wikipedia</th>\n",
       "      <th>position</th>\n",
       "      <th>joined_congress_date</th>\n",
       "      <th>birthday</th>\n",
       "      <th>gender</th>\n",
       "      <th>state</th>\n",
       "      <th>district_number</th>\n",
       "      <th>party</th>\n",
       "      <th>trump_2016_state_share</th>\n",
       "      <th>clinton_2016_state_share</th>\n",
       "      <th>obama_2012_state_share</th>\n",
       "      <th>romney_2012_state_share</th>\n",
       "      <th>party_2012</th>\n",
       "      <th>party_2016</th>\n",
       "    </tr>\n",
       "  </thead>\n",
       "  <tbody>\n",
       "    <tr>\n",
       "      <th>632508</th>\n",
       "      <td>1.124350e+18</td>\n",
       "      <td>WarrenDavidson</td>\n",
       "      <td>2019-05-03T12:29:48-04:00</td>\n",
       "      <td>Today’s jobs report indicates the lowest unemp...</td>\n",
       "      <td>Warren Davidson</td>\n",
       "      <td>Rep</td>\n",
       "      <td>2016-06-07</td>\n",
       "      <td>1970-03-01</td>\n",
       "      <td>M</td>\n",
       "      <td>OH</td>\n",
       "      <td>8</td>\n",
       "      <td>Republican</td>\n",
       "      <td>2,841,005</td>\n",
       "      <td>2,394,164</td>\n",
       "      <td>2,827,709</td>\n",
       "      <td>2,661,437</td>\n",
       "      <td>Democrat2012</td>\n",
       "      <td>Republican2016</td>\n",
       "    </tr>\n",
       "    <tr>\n",
       "      <th>43304</th>\n",
       "      <td>1.324500e+18</td>\n",
       "      <td>RepAndyBiggsAZ</td>\n",
       "      <td>2020-11-05T19:02:02-05:00</td>\n",
       "      <td>There’s no context to your numbers. You have a...</td>\n",
       "      <td>Andy Biggs</td>\n",
       "      <td>Rep</td>\n",
       "      <td>2017-01-03</td>\n",
       "      <td>1958-11-07</td>\n",
       "      <td>M</td>\n",
       "      <td>AZ</td>\n",
       "      <td>5</td>\n",
       "      <td>Republican</td>\n",
       "      <td>1,252,401</td>\n",
       "      <td>1,161,167</td>\n",
       "      <td>1,025,232</td>\n",
       "      <td>1,233,654</td>\n",
       "      <td>Republican2012</td>\n",
       "      <td>Republican2016</td>\n",
       "    </tr>\n",
       "    <tr>\n",
       "      <th>564765</th>\n",
       "      <td>1.149750e+18</td>\n",
       "      <td>RepGregoryMeeks</td>\n",
       "      <td>2019-07-12T14:38:35-04:00</td>\n",
       "      <td>RT @RepMaloney My bill to #renew911VCF just pa...</td>\n",
       "      <td>Gregory Meeks</td>\n",
       "      <td>Rep</td>\n",
       "      <td>1998-02-03</td>\n",
       "      <td>1953-09-25</td>\n",
       "      <td>M</td>\n",
       "      <td>NY</td>\n",
       "      <td>5</td>\n",
       "      <td>Democrat</td>\n",
       "      <td>2,819,533</td>\n",
       "      <td>4,556,118</td>\n",
       "      <td>4,485,741</td>\n",
       "      <td>2,490,431</td>\n",
       "      <td>Democrat2012</td>\n",
       "      <td>Democrat2016</td>\n",
       "    </tr>\n",
       "    <tr>\n",
       "      <th>933290</th>\n",
       "      <td>1.126910e+18</td>\n",
       "      <td>RepGrothman</td>\n",
       "      <td>2019-05-10T14:00:01-04:00</td>\n",
       "      <td>Last night, I spoke on the House Floor about t...</td>\n",
       "      <td>Glenn Grothman</td>\n",
       "      <td>Rep</td>\n",
       "      <td>2015-01-03</td>\n",
       "      <td>1955-07-03</td>\n",
       "      <td>M</td>\n",
       "      <td>WI</td>\n",
       "      <td>6</td>\n",
       "      <td>Republican</td>\n",
       "      <td>1,405,284</td>\n",
       "      <td>1,382,536</td>\n",
       "      <td>1,620,985</td>\n",
       "      <td>1,407,966</td>\n",
       "      <td>Democrat2012</td>\n",
       "      <td>Republican2016</td>\n",
       "    </tr>\n",
       "    <tr>\n",
       "      <th>151336</th>\n",
       "      <td>1.322260e+18</td>\n",
       "      <td>RepMikeLevin</td>\n",
       "      <td>2020-10-30T15:47:19-04:00</td>\n",
       "      <td>Reminder! Now is the time to drop your ballot ...</td>\n",
       "      <td>Mike Levin</td>\n",
       "      <td>Rep</td>\n",
       "      <td>2019-01-03</td>\n",
       "      <td>1978-10-28</td>\n",
       "      <td>M</td>\n",
       "      <td>CA</td>\n",
       "      <td>49</td>\n",
       "      <td>Democrat</td>\n",
       "      <td>4,483,814</td>\n",
       "      <td>8,753,792</td>\n",
       "      <td>7,854,285</td>\n",
       "      <td>4,839,958</td>\n",
       "      <td>Democrat2012</td>\n",
       "      <td>Democrat2016</td>\n",
       "    </tr>\n",
       "  </tbody>\n",
       "</table>\n",
       "</div>"
      ],
      "text/plain": [
       "            tweet_id      screen_name                   datetime  \\\n",
       "632508  1.124350e+18   WarrenDavidson  2019-05-03T12:29:48-04:00   \n",
       "43304   1.324500e+18   RepAndyBiggsAZ  2020-11-05T19:02:02-05:00   \n",
       "564765  1.149750e+18  RepGregoryMeeks  2019-07-12T14:38:35-04:00   \n",
       "933290  1.126910e+18      RepGrothman  2019-05-10T14:00:01-04:00   \n",
       "151336  1.322260e+18     RepMikeLevin  2020-10-30T15:47:19-04:00   \n",
       "\n",
       "                                                     text   name_wikipedia  \\\n",
       "632508  Today’s jobs report indicates the lowest unemp...  Warren Davidson   \n",
       "43304   There’s no context to your numbers. You have a...       Andy Biggs   \n",
       "564765  RT @RepMaloney My bill to #renew911VCF just pa...    Gregory Meeks   \n",
       "933290  Last night, I spoke on the House Floor about t...   Glenn Grothman   \n",
       "151336  Reminder! Now is the time to drop your ballot ...       Mike Levin   \n",
       "\n",
       "       position joined_congress_date   birthday gender state district_number  \\\n",
       "632508      Rep           2016-06-07 1970-03-01      M    OH               8   \n",
       "43304       Rep           2017-01-03 1958-11-07      M    AZ               5   \n",
       "564765      Rep           1998-02-03 1953-09-25      M    NY               5   \n",
       "933290      Rep           2015-01-03 1955-07-03      M    WI               6   \n",
       "151336      Rep           2019-01-03 1978-10-28      M    CA              49   \n",
       "\n",
       "             party trump_2016_state_share clinton_2016_state_share  \\\n",
       "632508  Republican              2,841,005                2,394,164   \n",
       "43304   Republican              1,252,401                1,161,167   \n",
       "564765    Democrat              2,819,533                4,556,118   \n",
       "933290  Republican              1,405,284                1,382,536   \n",
       "151336    Democrat              4,483,814                8,753,792   \n",
       "\n",
       "       obama_2012_state_share romney_2012_state_share      party_2012  \\\n",
       "632508              2,827,709               2,661,437    Democrat2012   \n",
       "43304               1,025,232               1,233,654  Republican2012   \n",
       "564765              4,485,741               2,490,431    Democrat2012   \n",
       "933290              1,620,985               1,407,966    Democrat2012   \n",
       "151336              7,854,285               4,839,958    Democrat2012   \n",
       "\n",
       "            party_2016  \n",
       "632508  Republican2016  \n",
       "43304   Republican2016  \n",
       "564765    Democrat2016  \n",
       "933290  Republican2016  \n",
       "151336    Democrat2016  "
      ]
     },
     "execution_count": 4,
     "metadata": {},
     "output_type": "execute_result"
    }
   ],
   "source": [
    "#Play around with temporal variables\n",
    "congress_tweets['joined_congress_date'] = pd.to_datetime(congress_tweets['joined_congress_date'], format='%d-%b-%y')\n",
    "\n",
    "congress_tweets['birthday'] = pd.to_datetime(congress_tweets['birthday'], format='%m/%d/%Y')\n",
    "\n",
    "congress_tweets.head()"
   ]
  },
  {
   "cell_type": "code",
   "execution_count": 5,
   "metadata": {},
   "outputs": [
    {
     "name": "stdout",
     "output_type": "stream",
     "text": [
      "            screen_name mapped_wikipedia\n",
      "632508   WarrenDavidson  Warren Davidson\n",
      "43304    RepAndyBiggsAZ       Andy Biggs\n",
      "564765  RepGregoryMeeks    Gregory Meeks\n",
      "933290      RepGrothman   Glenn Grothman\n",
      "151336     RepMikeLevin       Mike Levin\n"
     ]
    }
   ],
   "source": [
    "#Obviously a person's name does not change, even if their screen name does. What we want to do is capture all the screen names associated with a particular individual\n",
    "\n",
    "#Create a mapping dictionary from screen_name to name_wikipedia\n",
    "screenname_to_wiki = dict(zip(congress_tweets['screen_name'], congress_tweets['name_wikipedia']))\n",
    "\n",
    "# Use the dictionary to map the values\n",
    "congress_tweets['mapped_wikipedia'] = congress_tweets['screen_name'].map(screenname_to_wiki)\n",
    "\n",
    "# Check the result\n",
    "print(congress_tweets[['screen_name', 'mapped_wikipedia']].head())"
   ]
  },
  {
   "cell_type": "markdown",
   "metadata": {},
   "source": [
    "## Preprocessing"
   ]
  },
  {
   "cell_type": "markdown",
   "metadata": {},
   "source": [
    "The first step in working with text data is to preprocess it. Make sure you do the following:\n",
    "\n",
    "* Remove punctuation and stop words. The `rem_punc_stop()` function we used in lab is provided to you but you should feel free to edit it as necessary for other steps\n",
    "* Remove tokens that occur frequently in tweets, but may not be helpful for downstream classification. For instance, many tweets contain a flag for retweeting, or share a URL \n",
    "\n",
    "As you search online, you might run into solutions that rely on regular expressions. You are free to use these, but you should also be able to preprocess using the techniques we covered in lab. Specifically, we encourage you to use spaCy's token attributes and string methods to do some of this text preprocessing."
   ]
  },
  {
   "cell_type": "code",
   "execution_count": 6,
   "metadata": {},
   "outputs": [],
   "source": [
    "def rem_punc_stop(text):\n",
    "    stop_words = STOP_WORDS\n",
    "    punc = set(punctuation)\n",
    "    \n",
    "    punc_free = \"\".join([ch for ch in text if ch not in punc])\n",
    "    \n",
    "    doc = nlp(punc_free)\n",
    "    \n",
    "    spacy_words = [token.text for token in doc]\n",
    "    \n",
    "    spacy_words = [word for word in spacy_words if not word.startswith('http')]\n",
    "    \n",
    "    no_punc = [word for word in spacy_words if word not in stop_words]\n",
    "    \n",
    "    return no_punc"
   ]
  },
  {
   "cell_type": "code",
   "execution_count": 7,
   "metadata": {},
   "outputs": [
    {
     "data": {
      "text/plain": [
       "632508    [Today, jobs, report, indicates, lowest, unemp...\n",
       "43304     [There, context, numbers, You, absolutely, int...\n",
       "564765    [RT, RepMaloney, My, bill, renew911VCF, passed...\n",
       "933290    [Last, night, I, spoke, House, Floor, crisis, ...\n",
       "151336    [Reminder, Now, time, drop, ballot, official, ...\n",
       "                                ...                        \n",
       "612807    [The, practice, illegal, 1970, happens, United...\n",
       "353219                                    [sassywithmassie]\n",
       "442511                [SOMNLaura, NorthernStarBSA, Awesome]\n",
       "132621    [Stand, counted, \\n\\n, Thanks, Norwalk, hostin...\n",
       "611205    [I, Just, wrapped, great, visit, Yadkin, Valle...\n",
       "Name: tokens, Length: 1000, dtype: object"
      ]
     },
     "execution_count": 7,
     "metadata": {},
     "output_type": "execute_result"
    }
   ],
   "source": [
    "# apply the function to the 'text' i.e. tweet column\n",
    "# ----------\n",
    "congress_tweets['tokens'] = congress_tweets['text'].map(lambda x: rem_punc_stop(x)) # can use apply here \n",
    "congress_tweets['tokens'] # visualize"
   ]
  },
  {
   "cell_type": "code",
   "execution_count": 8,
   "metadata": {},
   "outputs": [],
   "source": [
    "## Create function\n",
    "import spacy\n",
    "from string import punctuation\n",
    "from spacy.lang.en.stop_words import STOP_WORDS\n",
    "import re\n",
    "\n",
    "# Load the SpaCy model\n",
    "nlp = spacy.load(\"en_core_web_sm\")\n",
    "\n",
    "def rem_punc_stop(text):\n",
    "    stop_words = STOP_WORDS  # List of common stopwords in English\n",
    "    punc = set(punctuation)  # Set of punctuation characters\n",
    "    \n",
    "    # Remove newline characters\n",
    "    text = text.replace( '\\n',' ') \n",
    "    \n",
    "    #Remove whitespace\n",
    "    space = re.sub(r'\\s+', '', text)\n",
    "    \n",
    "    # Remove punctuation\n",
    "    punc_free = \"\".join([ch for ch in text if ch not in punc])\n",
    "    \n",
    "    # Process the text with SpaCy\n",
    "    doc = nlp(punc_free)\n",
    "    \n",
    "    # Get all words, excluding URLs and stop words\n",
    "    spacy_words = [token.text for token in doc if not token.like_url]\n",
    "    \n",
    "    # Filter out stop words\n",
    "    no_punc = [word for word in spacy_words if word.lower() not in stop_words]\n",
    "    \n",
    "    return no_punc\n"
   ]
  },
  {
   "cell_type": "code",
   "execution_count": 9,
   "metadata": {},
   "outputs": [
    {
     "data": {
      "text/plain": [
       "632508    [Today, jobs, report, indicates, lowest, unemp...\n",
       "43304     [context, numbers, absolutely, interest, findi...\n",
       "564765    [RT, RepMaloney, bill, renew911VCF, passed, Ho...\n",
       "933290    [night, spoke, House, Floor, crisis, Southern,...\n",
       "151336    [Reminder, time, drop, ballot, official, drop,...\n",
       "                                ...                        \n",
       "612807    [practice, illegal, 1970, happens, United, Sta...\n",
       "353219    [sassywithmassie, httppbstwimgcommediaEa9fAOX0...\n",
       "442511                [SOMNLaura, NorthernStarBSA, Awesome]\n",
       "132621    [Stand, counted,   , Thanks, Norwalk, hosting,...\n",
       "611205    [wrapped, great, visit, Yadkin, Valley, Career...\n",
       "Name: tokens, Length: 1000, dtype: object"
      ]
     },
     "execution_count": 9,
     "metadata": {},
     "output_type": "execute_result"
    }
   ],
   "source": [
    "# reapply \n",
    "# ----------\n",
    "congress_tweets['tokens'] = congress_tweets['text'].map(lambda x: rem_punc_stop(x)) # can use apply here \n",
    "congress_tweets['tokens'] # visualize"
   ]
  },
  {
   "cell_type": "markdown",
   "metadata": {},
   "source": [
    "## Exploratory Data Analysis"
   ]
  },
  {
   "cell_type": "markdown",
   "metadata": {},
   "source": [
    "Use two of the techniques we covered in lab (or other techniques outside of lab!) to explore the text of the tweets. You should construct these visualizations with an eye toward the eventual classification tasks: (1) predicting the legislator's political party based on the text of their tweet, and (2) predicting whether the legislator is a Senator or Representative. As a reminder, in lab we covered word frequencies, word clouds, word/character counts, scattertext, and topic modeling as possible exploration tools. "
   ]
  },
  {
   "cell_type": "markdown",
   "metadata": {},
   "source": [
    "### EDA 1"
   ]
  },
  {
   "cell_type": "code",
   "execution_count": 10,
   "metadata": {},
   "outputs": [
    {
     "data": {
      "image/png": "[encoded data removed]",
      "text/plain": [
       "<Figure size 640x480 with 1 Axes>"
      ]
     },
     "metadata": {},
     "output_type": "display_data"
    }
   ],
   "source": [
    "# apply function to text object\n",
    "from wordcloud import WordCloud\n",
    "import matplotlib.pyplot as plt\n",
    "text = ' '.join(congress_tweets['tokens'].map(lambda text: ' '.join(text)))\n",
    "\n",
    "# create WordCloud visualization using the \"text\" object \n",
    "wordcloud = WordCloud(background_color = \"white\",  # set background color to white\n",
    "                      random_state=41              # set random state to ensure same word cloud each time\n",
    "                      ).generate(text)             # change the background color\n",
    "\n",
    "\n",
    "# plot \n",
    "plt.imshow(wordcloud,                  # specify wordcloud\n",
    "           interpolation = 'bilinear') # specifies how the words are displayed\n",
    "plt.axis('off')                        # turn off axes\n",
    "plt.show()                             # show the plot"
   ]
  },
  {
   "cell_type": "markdown",
   "metadata": {},
   "source": [
    "### EDA 2"
   ]
  },
  {
   "cell_type": "code",
   "execution_count": null,
   "metadata": {},
   "outputs": [],
   "source": [
    "..."
   ]
  },
  {
   "cell_type": "markdown",
   "metadata": {},
   "source": [
    "### Retweets and Quote Tweets"
   ]
  },
  {
   "cell_type": "markdown",
   "metadata": {},
   "source": [
    "I think that retweets and quote tweets are meaningful signals, though we might not want to have them messing up our sentiment analysis. \n",
    "First, let's pull them out to see how prevalent they actually are"
   ]
  },
  {
   "cell_type": "code",
   "execution_count": 11,
   "metadata": {},
   "outputs": [
    {
     "name": "stdout",
     "output_type": "stream",
     "text": [
      "Number of tweets containing Retweets: 246\n",
      "Number of tweets containing Quote tweets: 143\n"
     ]
    }
   ],
   "source": [
    "# Find all tweets containing \"RT\" or \"QT\"\n",
    "RTtweets = congress_tweets[congress_tweets['text'].str.contains('RT', na=False)]\n",
    "QTtweets = congress_tweets[congress_tweets['text'].str.contains('QT', na=False)]\n",
    "\n",
    "# Print the count of retweets and quote tweets\n",
    "print(f\"Number of tweets containing Retweets: {RTtweets.shape[0]}\")\n",
    "print(f\"Number of tweets containing Quote tweets: {QTtweets.shape[0]}\")"
   ]
  },
  {
   "cell_type": "markdown",
   "metadata": {},
   "source": [
    "Now there are some analytic choices here. \n",
    "For quote tweets, we will probably need to conceptualize this as a conversation, where the sentiment/message of the original tweet can be the opposite of the re-poster.\n",
    "However, should 'simple' re-tweets be considered representative of the person doing the re-tweeting? \n",
    "Or should they be attributed to the original speaker(s) instead? What should we do if multiple people are being referenced?\n",
    "Let's see if people are re-tweeting/quote-tweeting other individuals who are also in our database. As we can only reasonably infer characteristics about people being re-tweeted if they are in our database already."
   ]
  },
  {
   "cell_type": "code",
   "execution_count": 12,
   "metadata": {},
   "outputs": [
    {
     "name": "stdout",
     "output_type": "stream",
     "text": [
      "                                                     text\n",
      "43304   There’s no context to your numbers. You have a...\n",
      "564765  RT @RepMaloney My bill to #renew911VCF just pa...\n",
      "350799  @jenbrea Genuine question: how does spreading ...\n",
      "719681  RT @RIDeptEd We will continue to provide updat...\n",
      "112797  RT @IvankaTrump Practical steps every American...\n",
      "Total number of tweets containing an @: 594\n"
     ]
    }
   ],
   "source": [
    "repost_users = congress_tweets[congress_tweets['text'].str.contains('@', na=False)]\n",
    "\n",
    "print(repost_users[['text']].head())\n",
    "\n",
    "# Print the count of tweets with an @\n",
    "print(f\"Total number of tweets containing an @: {repost_users.shape[0]}\")"
   ]
  },
  {
   "cell_type": "code",
   "execution_count": 13,
   "metadata": {},
   "outputs": [
    {
     "name": "stdout",
     "output_type": "stream",
     "text": [
      "Tweet Author: RepAndyBiggsAZ\n",
      "Author Political Affiliation: Republican\n",
      "Mentioned User: RepAndyBiggsAZ\n",
      "Mentioned User Political Affiliation: Republican\n",
      "\n",
      "Tweet Text: RT @RepDanBishop I introduced a bill to stop your tax $$ from funding cities/states that cede ground to mobs &amp; promote anarchy (#CHAZ). Thx to @RepMattGaetz, @RepTedBudd &amp; @RepAndyBiggsAZ for their support. See more https://danbishop.house.gov/media/press-releases/bishop-cuts-cash-chaz-cities-promoting-lawless-anarchy\n",
      "_________\n",
      "Tweet Author: NydiaVelazquez\n",
      "Author Political Affiliation: Democrat\n",
      "Mentioned User: RepMaloney\n",
      "Mentioned User Political Affiliation: Democrat\n",
      "\n",
      "Tweet Text: We have already heard of museums in NY having to lay off employees and make other cuts. I am joining my colleagues in supporting emergency funds for these cultural institutions, which employ thousands of NYers. https://twitter.com/repmaloney/status/1241508752886505474 QT @RepMaloney Museums in New York State support 61,000 jobs &amp; play an invaluable role in preserving American art, history, and culture. \n",
      "\n",
      "Today, my NY colleagues and I wrote a letter to House leadership requesting emergency funding for nonprofit museums during the #CoronavirusPandemic. http://pbs.twimg.com/media/ETq43eIWkAEgjaL.png http://pbs.twimg.com/media/ETq489uXkAAHjpF.png http://pbs.twimg.com/media/ETq5CwGXkAA-tBV.jpg\n",
      "_________\n",
      "Tweet Author: RepSlotkin\n",
      "Author Political Affiliation: Democrat\n",
      "Mentioned User: RepHaleyStevens\n",
      "Mentioned User Political Affiliation: Democrat\n",
      "\n",
      "Tweet Text: RT @AutomationAlley Don’t miss our FREE Government Affairs Roundtable: Ensuring Michigan’s #Manufacturing Might &amp; Global Competitiveness. Featuring: @SenStabenow, @GaryPeters, @RepSlotkin and @RepHaleyStevens!\n",
      "\n",
      "Register Now:  https://members.automationalley.com/events/details/ensuring-michigan-s-manufacturing-might-global-competitiveness-featuring-sen-debbie-stabenow-sen-gary-peters-congresswoman-elissa-slotkin-congresswoman-haley-stevens-19715 http://pbs.twimg.com/media/Eoz5Y5VVoAE14Oh.jpg\n",
      "_________\n",
      "Tweet Author: MarkWarner\n",
      "Author Political Affiliation: Democrat\n",
      "Mentioned User: MarkWarner\n",
      "Mentioned User Political Affiliation: Democrat\n",
      "\n",
      "Tweet Text: RT @SenatorShaheen Congress must help Americans access the health care they need to stay healthy during this crisis. @MarkWarner, @SenDougJones, @SenatorDurbin and I are leading the charge to strengthen and expand access to health care in upcoming COVID-19 relief legislation. http://pbs.twimg.com/media/EaVeWf5XYAMjtbr.jpg http://pbs.twimg.com/media/EaVeYdhXYAATte1.jpg http://pbs.twimg.com/media/EaVea5dXkAUimcR.jpg http://pbs.twimg.com/media/EaVecuyX0AALPrd.jpg\n",
      "_________\n",
      "Tweet Author: SenatorTomUdall\n",
      "Author Political Affiliation: Democrat\n",
      "Mentioned User: SenatorTomUdall\n",
      "Mentioned User Political Affiliation: Democrat\n",
      "\n",
      "Tweet Text: I introduced this bill for the first time back in 2018, and again in 2019, because it was clear then that the president was pushing us onto a dangerous path toward a war with Iran.\n",
      "\n",
      "Now is the time to pass it. https://twitter.com/SenatorTomUdall/status/1045082520012902400 QT @SenatorTomUdall The Trump administration is taking us down an all-too-familiar path toward war in the Middle East, this time with Iran. Today, I introduced legislation to stop @POTUS from launching an unconstitutional war against Iran without explicit authorization from Congress. http://pbs.twimg.com/media/DoDgfztU8AA-WtE.jpg\n",
      "_________\n",
      "Number QT, RT, or @'s of people in 'screen_name': 157\n"
     ]
    }
   ],
   "source": [
    "import re\n",
    "\n",
    "mentionedusers = {}  # Create an empty dictionary to hold mentions and associated tweet text\n",
    "\n",
    "# Iterate over rows of congress_tweets\n",
    "for index, row in congress_tweets.iterrows():\n",
    "    # Extract mentions (users starting with @) from the tweet text\n",
    "    mentions = re.findall(r'@([a-zA-Z0-9_]+)', row['text'])\n",
    "    \n",
    "    # Check if any of the mentions are in the congress_tweets['screen_name'] list\n",
    "    for mention in mentions:\n",
    "        if mention in congress_tweets['screen_name'].values:\n",
    "            # Find the political affiliation of the person doing the mentioning (the tweet author)\n",
    "            mentioner_affiliation = congress_tweets.loc[congress_tweets['screen_name'] == row['screen_name'], 'party'].values[0]\n",
    "            \n",
    "            # Find the political affiliation of the person being mentioned\n",
    "            mentioned_affiliation = congress_tweets.loc[congress_tweets['screen_name'] == mention, 'party'].values[0]\n",
    "            \n",
    "            # Store the tweet text, the mentioner’s political affiliation, and the mentioned person’s political affiliation in the dictionary\n",
    "            mentionedusers[mention] = {\n",
    "                'mentioner_screen_name': row['screen_name'],  # Add mentioner's screen name\n",
    "                'mentioner_text': row['text'],\n",
    "                'mentioner_affiliation': mentioner_affiliation,\n",
    "                'mentioned_affiliation': mentioned_affiliation\n",
    "            }\n",
    "\n",
    "# Print only the first 5 mentions that are in congress_tweets['screen_name'], including political affiliation and the tweet author\n",
    "for i, (mention, details) in enumerate(mentionedusers.items()):\n",
    "    if i >= 5:\n",
    "        break\n",
    "    print(f\"Tweet Author: {details['mentioner_screen_name']}\")\n",
    "    print(f\"Author Political Affiliation: {details['mentioner_affiliation']}\")\n",
    "    print(f\"Mentioned User: {mention}\")\n",
    "    print(f\"Mentioned User Political Affiliation: {details['mentioned_affiliation']}\\n\")\n",
    "    print(f\"Tweet Text: {details['mentioner_text']}\")\n",
    "    print(\"_________\")\n",
    "print(f\"Number QT, RT, or @'s of people in 'screen_name': {len(mentionedusers)}\")"
   ]
  },
  {
   "cell_type": "markdown",
   "metadata": {},
   "source": [
    "From this, we can see the different ways users are interacting with one another in the form of @'s, retweets, and quote tweets. "
   ]
  },
  {
   "cell_type": "markdown",
   "metadata": {},
   "source": [
    "## Sentiment Analysis"
   ]
  },
  {
   "cell_type": "markdown",
   "metadata": {},
   "source": [
    "Next, let's analyze the sentiments contained within the tweets. You may use TextBlob or another library for these tasks. Do the following:\n",
    "\n",
    "* Choose two legislators, one who you think will be more liberal and one who you think will be more conservative, and analyze their sentiment and/or subjectivity scores per tweet. For instance, you might do two scatterplots that plot each legislator's sentiment against their subjectivity, or two density plots for their sentiments. Do the scores match what you thought?\n",
    "* Plot two more visualizations like the ones you chose in the first part, but do them to compare (1) Democrats v. Republicans and (2) Senators v. Representatives \n",
    "\n",
    "`TextBlob` has already been imported in the top cell."
   ]
  },
  {
   "cell_type": "code",
   "execution_count": 63,
   "metadata": {},
   "outputs": [
    {
     "data": {
      "text/plain": [
       "Ellipsis"
      ]
     },
     "execution_count": 63,
     "metadata": {},
     "output_type": "execute_result"
    }
   ],
   "source": [
    "..."
   ]
  },
  {
   "cell_type": "markdown",
   "metadata": {},
   "source": [
    "## Featurization"
   ]
  },
  {
   "cell_type": "markdown",
   "metadata": {},
   "source": [
    "Before going to classification, explore different featurization techniques. Create three dataframes or arrays to represent your text features, specifically:\n",
    "\n",
    "* Features engineered from your previous analysis. For example, word counts, sentiment scores, topic model etc.\n",
    "* A term frequency-inverse document frequency matrix. \n",
    "* An embedding-based featurization (like a document averaged word2vec)\n",
    "\n",
    "In the next section, you will experiment with each of these featurization techniques to see which one produces the best classifications."
   ]
  },
  {
   "cell_type": "code",
   "execution_count": null,
   "metadata": {},
   "outputs": [],
   "source": [
    "..."
   ]
  },
  {
   "cell_type": "markdown",
   "metadata": {},
   "source": [
    "### Engineered Text Features"
   ]
  },
  {
   "cell_type": "code",
   "execution_count": null,
   "metadata": {},
   "outputs": [],
   "source": [
    "# Engineered Features\n",
    "..."
   ]
  },
  {
   "cell_type": "markdown",
   "metadata": {},
   "source": [
    "### Bag-of-words or Tf-idf"
   ]
  },
  {
   "cell_type": "code",
   "execution_count": null,
   "metadata": {},
   "outputs": [],
   "source": [
    "# Frequency Based featurization\n",
    "..."
   ]
  },
  {
   "cell_type": "markdown",
   "metadata": {},
   "source": [
    "### Word Embedding"
   ]
  },
  {
   "cell_type": "code",
   "execution_count": null,
   "metadata": {},
   "outputs": [],
   "source": [
    "# Load Word2Vec model from Google; OPTIONAL depending on your computational resources (the file is ~1 GB)\n",
    "# Also note that this file path assumes that the word vectors are underneath 'data'; you may wish to point to the CSS course repo and change the path\n",
    "# or move the vector file to the project repo \n",
    "\n",
    "#model = gensim.models.KeyedVectors.load_word2vec_format('data/GoogleNews-vectors-negative300.bin.gz', binary = True) "
   ]
  },
  {
   "cell_type": "code",
   "execution_count": null,
   "metadata": {},
   "outputs": [],
   "source": [
    "# Function to average word embeddings for a document; use examples from lab to apply this function. You can use also other techniques such as PCA and doc2vec instead.\n",
    "def document_vector(word2vec_model, doc):\n",
    "    doc = [word for word in doc if word in model.vocab]\n",
    "    return np.mean(model[doc], axis=0)"
   ]
  },
  {
   "cell_type": "code",
   "execution_count": null,
   "metadata": {},
   "outputs": [],
   "source": [
    "# embedding based featurization\n",
    "..."
   ]
  },
  {
   "cell_type": "markdown",
   "metadata": {},
   "source": [
    "## Classification"
   ]
  },
  {
   "cell_type": "markdown",
   "metadata": {},
   "source": [
    "Either use cross-validation or partition your data with training/validation/test sets for this section. Do the following:\n",
    "\n",
    "* Choose a supervised learning algorithm such as logistic regression, random forest etc. \n",
    "* Train six models. For each of the three dataframes you created in the featurization part, train one model to predict whether the author of the tweet is a Democrat or Republican, and a second model to predict whether the author is a Senator or Representative.\n",
    "* Report the accuracy and other relevant metrics for each of these six models.\n",
    "* Choose the featurization technique associated with your best model. Combine those text features with non-text features. Train two more models: (1) A supervised learning algorithm that uses just the non-text features and (2) a supervised learning algorithm that combines text and non-text features. Report accuracy and other relevant metrics. \n",
    "\n",
    "If time permits, you are encouraged to use hyperparameter tuning or AutoML techniques like TPOT, but are not explicitly required to do so."
   ]
  },
  {
   "cell_type": "markdown",
   "metadata": {},
   "source": [
    "### Train Six Models with Just Text"
   ]
  },
  {
   "cell_type": "code",
   "execution_count": null,
   "metadata": {},
   "outputs": [],
   "source": [
    "# six models ([engineered features, frequency-based, embedding] * [democrat/republican, senator/representative])\n",
    "..."
   ]
  },
  {
   "cell_type": "markdown",
   "metadata": {},
   "source": [
    "### Two Combined Models"
   ]
  },
  {
   "cell_type": "code",
   "execution_count": null,
   "metadata": {},
   "outputs": [],
   "source": [
    "# two models ([best text features + non-text features] * [democrat/republican, senator/representative])\n",
    "..."
   ]
  },
  {
   "cell_type": "markdown",
   "metadata": {},
   "source": [
    "## Discussion Questions"
   ]
  },
  {
   "cell_type": "markdown",
   "metadata": {},
   "source": [
    "1. Why do standard preprocessing techniques need to be further customized to a particular corpus?"
   ]
  },
  {
   "cell_type": "markdown",
   "metadata": {},
   "source": [
    "**YOUR ANSWER HERE** ..."
   ]
  },
  {
   "cell_type": "markdown",
   "metadata": {},
   "source": [
    "2. Did you find evidence for the idea that Democrats and Republicans have different sentiments in their tweets? What about Senators and Representatives?"
   ]
  },
  {
   "cell_type": "markdown",
   "metadata": {},
   "source": [
    "**YOUR ANSWER HERE** ..."
   ]
  },
  {
   "cell_type": "markdown",
   "metadata": {},
   "source": [
    "3. Why is validating your exploratory and unsupervised learning approaches with a supervised learning algorithm valuable?"
   ]
  },
  {
   "cell_type": "markdown",
   "metadata": {},
   "source": [
    "**YOUR ANSWER HERE** ..."
   ]
  },
  {
   "cell_type": "markdown",
   "metadata": {},
   "source": [
    "4. Did text only, non-text only, or text and non-text features together perform the best? What is the intuition behind combining text and non-text features in a supervised learning algorithm?"
   ]
  },
  {
   "cell_type": "markdown",
   "metadata": {},
   "source": [
    "**YOUR ANSWER HERE** ..."
   ]
  }
 ],
 "metadata": {
  "kernelspec": {
   "display_name": "Python 3 (ipykernel)",
   "language": "python",
   "name": "python3"
  },
  "language_info": {
   "codemirror_mode": {
    "name": "ipython",
    "version": 3
   },
   "file_extension": ".py",
   "mimetype": "text/x-python",
   "name": "python",
   "nbconvert_exporter": "python",
   "pygments_lexer": "ipython3",
   "version": "3.12.4"
  }
 },
 "nbformat": 4,
 "nbformat_minor": 4
}
