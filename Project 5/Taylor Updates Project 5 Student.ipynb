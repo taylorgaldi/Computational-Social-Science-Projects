{
 "cells": [
  {
   "cell_type": "markdown",
   "metadata": {},
   "source": [
    "## [Computational Social Science] Project 5: Natural Language Processing"
   ]
  },
  {
   "cell_type": "markdown",
   "metadata": {},
   "source": [
    "In this project, you will use natural language processing techniques to explore a dataset containing tweets from members of the 116th United States Congress that met from January 3, 2019 to January 2, 2021. The dataset has also been cleaned to contain information about each legislator. Concretely, you will do the following:\n",
    "\n",
    "* Preprocess the text of legislators' tweets\n",
    "* Conduct Exploratory Data Analysis of the text\n",
    "* Use sentiment analysis to explore differences between legislators' tweets\n",
    "* Featurize text with manual feature engineering, frequency-based, and vector-based techniques\n",
    "* Predict legislators' political parties and whether they are a Senator or Representative\n",
    "\n",
    "You will explore two questions that relate to two central findings in political science and examine how they relate to the text of legislators' tweets. First, political scientists have argued that U.S. politics is currently highly polarized relative to other periods in American history, but also that the polarization is asymmetric. Historically, there were several conservative Democrats (i.e. \"blue dog Democrats\") and liberal Republicans (i.e. \"Rockefeller Republicans\"), as measured by popular measurement tools like [DW-NOMINATE](https://en.wikipedia.org/wiki/NOMINATE_(scaling_method)#:~:text=DW\\%2DNOMINATE\\%20scores\\%20have\\%20been,in\\%20the\\%20liberal\\%2Dconservative\\%20scale.). However, in the last few years, there are few if any examples of any Democrat in Congress being further to the right than any Republican and vice versa. At the same time, scholars have argued that this polarization is mostly a function of the Republican party moving further right than the Democratic party has moved left. **Does this sort of asymmetric polarization show up in how politicians communicate to their constituents through tweets?**\n",
    "\n",
    "Second, the U.S. Congress is a bicameral legislature, and there has long been debate about partisanship in the Senate versus the House. The House of Representatives is apportioned by population and all members serve two year terms. In the Senate, each state receives two Senators and each Senator serves a term of six years. For a variety of reasons (smaller chamber size, more insulation from the voters, rules and norms like the filibuster, etc.), the Senate has been argued to be the \"cooling saucer\" of Congress in that it is more bipartisan and moderate than the House. **Does the theory that the Senate is more moderate have support in Senators' tweets?**\n",
    "\n",
    "**Note**: See the project handout for more details on caveats and the data dictionary."
   ]
  },
  {
   "cell_type": "code",
   "execution_count": 2,
   "metadata": {},
   "outputs": [],
   "source": [
    "# pandas and numpy\n",
    "import pandas as pd\n",
    "import numpy as numpy\n",
    "\n",
    "# punctuation, stop words and English language model\n",
    "from string import punctuation\n",
    "from spacy.lang.en.stop_words import STOP_WORDS\n",
    "import en_core_web_sm\n",
    "nlp = en_core_web_sm.load()\n",
    "\n",
    "# textblob\n",
    "from textblob import TextBlob\n",
    "\n",
    "# countvectorizer, tfidfvectorizer\n",
    "from sklearn.feature_extraction.text import CountVectorizer, TfidfVectorizer\n",
    "\n",
    "# gensim\n",
    "import gensim\n",
    "from gensim import models\n",
    "\n",
    "# plotting\n",
    "import matplotlib.pyplot as plt\n",
    "import seaborn as sns\n",
    "%matplotlib inline"
   ]
  },
  {
   "cell_type": "code",
   "execution_count": 3,
   "metadata": {},
   "outputs": [
    {
     "data": {
      "text/html": [
       "<div>\n",
       "<style scoped>\n",
       "    .dataframe tbody tr th:only-of-type {\n",
       "        vertical-align: middle;\n",
       "    }\n",
       "\n",
       "    .dataframe tbody tr th {\n",
       "        vertical-align: top;\n",
       "    }\n",
       "\n",
       "    .dataframe thead th {\n",
       "        text-align: right;\n",
       "    }\n",
       "</style>\n",
       "<table border=\"1\" class=\"dataframe\">\n",
       "  <thead>\n",
       "    <tr style=\"text-align: right;\">\n",
       "      <th></th>\n",
       "      <th>tweet_id</th>\n",
       "      <th>screen_name</th>\n",
       "      <th>datetime</th>\n",
       "      <th>text</th>\n",
       "      <th>name_wikipedia</th>\n",
       "      <th>position</th>\n",
       "      <th>joined_congress_date</th>\n",
       "      <th>birthday</th>\n",
       "      <th>gender</th>\n",
       "      <th>state</th>\n",
       "      <th>district_number</th>\n",
       "      <th>party</th>\n",
       "      <th>trump_2016_state_share</th>\n",
       "      <th>clinton_2016_state_share</th>\n",
       "      <th>obama_2012_state_share</th>\n",
       "      <th>romney_2012_state_share</th>\n",
       "    </tr>\n",
       "  </thead>\n",
       "  <tbody>\n",
       "    <tr>\n",
       "      <th>476174</th>\n",
       "      <td>1.095450e+18</td>\n",
       "      <td>SteveDaines</td>\n",
       "      <td>2019-02-12T17:27:18-05:00</td>\n",
       "      <td>BIG DAY for conservation in Montana and across...</td>\n",
       "      <td>Steve Daines</td>\n",
       "      <td>Sen</td>\n",
       "      <td>3-Jan-15</td>\n",
       "      <td>8/20/1962</td>\n",
       "      <td>M</td>\n",
       "      <td>MT</td>\n",
       "      <td>Senate</td>\n",
       "      <td>Republican</td>\n",
       "      <td>279,240</td>\n",
       "      <td>177,709</td>\n",
       "      <td>201,839</td>\n",
       "      <td>267,928</td>\n",
       "    </tr>\n",
       "    <tr>\n",
       "      <th>545367</th>\n",
       "      <td>1.259960e+18</td>\n",
       "      <td>MartinHeinrich</td>\n",
       "      <td>2020-05-11T17:30:40-04:00</td>\n",
       "      <td>Even though this year's Santa Fe Indian Market...</td>\n",
       "      <td>Martin Heinrich</td>\n",
       "      <td>Sen</td>\n",
       "      <td>3-Jan-13</td>\n",
       "      <td>10/17/1971</td>\n",
       "      <td>M</td>\n",
       "      <td>NM</td>\n",
       "      <td>Senate</td>\n",
       "      <td>Democrat</td>\n",
       "      <td>319,667</td>\n",
       "      <td>385,234</td>\n",
       "      <td>415,335</td>\n",
       "      <td>335,788</td>\n",
       "    </tr>\n",
       "    <tr>\n",
       "      <th>154284</th>\n",
       "      <td>1.333500e+18</td>\n",
       "      <td>RepLindaSanchez</td>\n",
       "      <td>2020-11-30T14:50:36-05:00</td>\n",
       "      <td>RT @BillPascrell For years the IRS disproporti...</td>\n",
       "      <td>Linda Sánchez</td>\n",
       "      <td>Rep</td>\n",
       "      <td>3-Jan-03</td>\n",
       "      <td>1/28/1969</td>\n",
       "      <td>F</td>\n",
       "      <td>CA</td>\n",
       "      <td>38</td>\n",
       "      <td>Democrat</td>\n",
       "      <td>4,483,814</td>\n",
       "      <td>8,753,792</td>\n",
       "      <td>7,854,285</td>\n",
       "      <td>4,839,958</td>\n",
       "    </tr>\n",
       "    <tr>\n",
       "      <th>810427</th>\n",
       "      <td>1.252650e+18</td>\n",
       "      <td>SenTedCruz</td>\n",
       "      <td>2020-04-21T13:35:21-04:00</td>\n",
       "      <td>As the Senate finally moves ahead with additio...</td>\n",
       "      <td>Ted Cruz</td>\n",
       "      <td>Sen</td>\n",
       "      <td>3-Jan-13</td>\n",
       "      <td>12/22/1970</td>\n",
       "      <td>M</td>\n",
       "      <td>TX</td>\n",
       "      <td>Senate</td>\n",
       "      <td>Republican</td>\n",
       "      <td>4,685,047</td>\n",
       "      <td>3,877,868</td>\n",
       "      <td>3,308,124</td>\n",
       "      <td>4,569,843</td>\n",
       "    </tr>\n",
       "    <tr>\n",
       "      <th>17917</th>\n",
       "      <td>1.149850e+18</td>\n",
       "      <td>RepGosar</td>\n",
       "      <td>2019-07-12T21:15:54-04:00</td>\n",
       "      <td>RT @BreitbartNews Exclusive—@RepGosar: America...</td>\n",
       "      <td>Paul Gosar</td>\n",
       "      <td>Rep</td>\n",
       "      <td>3-Jan-11</td>\n",
       "      <td>11/22/1958</td>\n",
       "      <td>M</td>\n",
       "      <td>AZ</td>\n",
       "      <td>4</td>\n",
       "      <td>Republican</td>\n",
       "      <td>1,252,401</td>\n",
       "      <td>1,161,167</td>\n",
       "      <td>1,025,232</td>\n",
       "      <td>1,233,654</td>\n",
       "    </tr>\n",
       "  </tbody>\n",
       "</table>\n",
       "</div>"
      ],
      "text/plain": [
       "            tweet_id      screen_name                   datetime  \\\n",
       "476174  1.095450e+18      SteveDaines  2019-02-12T17:27:18-05:00   \n",
       "545367  1.259960e+18   MartinHeinrich  2020-05-11T17:30:40-04:00   \n",
       "154284  1.333500e+18  RepLindaSanchez  2020-11-30T14:50:36-05:00   \n",
       "810427  1.252650e+18       SenTedCruz  2020-04-21T13:35:21-04:00   \n",
       "17917   1.149850e+18         RepGosar  2019-07-12T21:15:54-04:00   \n",
       "\n",
       "                                                     text   name_wikipedia  \\\n",
       "476174  BIG DAY for conservation in Montana and across...     Steve Daines   \n",
       "545367  Even though this year's Santa Fe Indian Market...  Martin Heinrich   \n",
       "154284  RT @BillPascrell For years the IRS disproporti...    Linda Sánchez   \n",
       "810427  As the Senate finally moves ahead with additio...         Ted Cruz   \n",
       "17917   RT @BreitbartNews Exclusive—@RepGosar: America...       Paul Gosar   \n",
       "\n",
       "       position joined_congress_date    birthday gender state district_number  \\\n",
       "476174      Sen             3-Jan-15   8/20/1962      M    MT          Senate   \n",
       "545367      Sen             3-Jan-13  10/17/1971      M    NM          Senate   \n",
       "154284      Rep             3-Jan-03   1/28/1969      F    CA              38   \n",
       "810427      Sen             3-Jan-13  12/22/1970      M    TX          Senate   \n",
       "17917       Rep             3-Jan-11  11/22/1958      M    AZ               4   \n",
       "\n",
       "             party trump_2016_state_share clinton_2016_state_share  \\\n",
       "476174  Republican                279,240                  177,709   \n",
       "545367    Democrat                319,667                  385,234   \n",
       "154284    Democrat              4,483,814                8,753,792   \n",
       "810427  Republican              4,685,047                3,877,868   \n",
       "17917   Republican              1,252,401                1,161,167   \n",
       "\n",
       "       obama_2012_state_share romney_2012_state_share  \n",
       "476174                201,839                 267,928  \n",
       "545367                415,335                 335,788  \n",
       "154284              7,854,285               4,839,958  \n",
       "810427              3,308,124               4,569,843  \n",
       "17917               1,025,232               1,233,654  "
      ]
     },
     "execution_count": 3,
     "metadata": {},
     "output_type": "execute_result"
    }
   ],
   "source": [
    "# load data \n",
    "# ----------\n",
    "congress_tweets = pd.read_csv(\"data/116th Congressional Tweets and Demographics.csv\")\n",
    "# fill in this line of code with a sufficient number of tweets, depending on your computational resources\n",
    "congress_tweets = congress_tweets.sample(n=5000)\n",
    "congress_tweets.head()"
   ]
  },
  {
   "cell_type": "markdown",
   "metadata": {},
   "source": [
    "Actually, I'm not sure if I should be adding these new columns (below) back into the dataset because I'm only taking a small sample of the dataset. I'll re-think this when I go into Part II of the project."
   ]
  },
  {
   "cell_type": "code",
   "execution_count": 4,
   "metadata": {},
   "outputs": [
    {
     "data": {
      "text/html": [
       "<div>\n",
       "<style scoped>\n",
       "    .dataframe tbody tr th:only-of-type {\n",
       "        vertical-align: middle;\n",
       "    }\n",
       "\n",
       "    .dataframe tbody tr th {\n",
       "        vertical-align: top;\n",
       "    }\n",
       "\n",
       "    .dataframe thead th {\n",
       "        text-align: right;\n",
       "    }\n",
       "</style>\n",
       "<table border=\"1\" class=\"dataframe\">\n",
       "  <thead>\n",
       "    <tr style=\"text-align: right;\">\n",
       "      <th></th>\n",
       "      <th>tweet_id</th>\n",
       "      <th>screen_name</th>\n",
       "      <th>datetime</th>\n",
       "      <th>text</th>\n",
       "      <th>name_wikipedia</th>\n",
       "      <th>position</th>\n",
       "      <th>joined_congress_date</th>\n",
       "      <th>birthday</th>\n",
       "      <th>gender</th>\n",
       "      <th>state</th>\n",
       "      <th>district_number</th>\n",
       "      <th>party</th>\n",
       "      <th>trump_2016_state_share</th>\n",
       "      <th>clinton_2016_state_share</th>\n",
       "      <th>obama_2012_state_share</th>\n",
       "      <th>romney_2012_state_share</th>\n",
       "      <th>party_2012</th>\n",
       "      <th>party_2016</th>\n",
       "    </tr>\n",
       "  </thead>\n",
       "  <tbody>\n",
       "    <tr>\n",
       "      <th>476174</th>\n",
       "      <td>1.095450e+18</td>\n",
       "      <td>SteveDaines</td>\n",
       "      <td>2019-02-12T17:27:18-05:00</td>\n",
       "      <td>BIG DAY for conservation in Montana and across...</td>\n",
       "      <td>Steve Daines</td>\n",
       "      <td>Sen</td>\n",
       "      <td>3-Jan-15</td>\n",
       "      <td>8/20/1962</td>\n",
       "      <td>M</td>\n",
       "      <td>MT</td>\n",
       "      <td>Senate</td>\n",
       "      <td>Republican</td>\n",
       "      <td>279,240</td>\n",
       "      <td>177,709</td>\n",
       "      <td>201,839</td>\n",
       "      <td>267,928</td>\n",
       "      <td>Republican2012</td>\n",
       "      <td>Republican2016</td>\n",
       "    </tr>\n",
       "    <tr>\n",
       "      <th>545367</th>\n",
       "      <td>1.259960e+18</td>\n",
       "      <td>MartinHeinrich</td>\n",
       "      <td>2020-05-11T17:30:40-04:00</td>\n",
       "      <td>Even though this year's Santa Fe Indian Market...</td>\n",
       "      <td>Martin Heinrich</td>\n",
       "      <td>Sen</td>\n",
       "      <td>3-Jan-13</td>\n",
       "      <td>10/17/1971</td>\n",
       "      <td>M</td>\n",
       "      <td>NM</td>\n",
       "      <td>Senate</td>\n",
       "      <td>Democrat</td>\n",
       "      <td>319,667</td>\n",
       "      <td>385,234</td>\n",
       "      <td>415,335</td>\n",
       "      <td>335,788</td>\n",
       "      <td>Democrat2012</td>\n",
       "      <td>Democrat2016</td>\n",
       "    </tr>\n",
       "    <tr>\n",
       "      <th>154284</th>\n",
       "      <td>1.333500e+18</td>\n",
       "      <td>RepLindaSanchez</td>\n",
       "      <td>2020-11-30T14:50:36-05:00</td>\n",
       "      <td>RT @BillPascrell For years the IRS disproporti...</td>\n",
       "      <td>Linda Sánchez</td>\n",
       "      <td>Rep</td>\n",
       "      <td>3-Jan-03</td>\n",
       "      <td>1/28/1969</td>\n",
       "      <td>F</td>\n",
       "      <td>CA</td>\n",
       "      <td>38</td>\n",
       "      <td>Democrat</td>\n",
       "      <td>4,483,814</td>\n",
       "      <td>8,753,792</td>\n",
       "      <td>7,854,285</td>\n",
       "      <td>4,839,958</td>\n",
       "      <td>Democrat2012</td>\n",
       "      <td>Democrat2016</td>\n",
       "    </tr>\n",
       "    <tr>\n",
       "      <th>810427</th>\n",
       "      <td>1.252650e+18</td>\n",
       "      <td>SenTedCruz</td>\n",
       "      <td>2020-04-21T13:35:21-04:00</td>\n",
       "      <td>As the Senate finally moves ahead with additio...</td>\n",
       "      <td>Ted Cruz</td>\n",
       "      <td>Sen</td>\n",
       "      <td>3-Jan-13</td>\n",
       "      <td>12/22/1970</td>\n",
       "      <td>M</td>\n",
       "      <td>TX</td>\n",
       "      <td>Senate</td>\n",
       "      <td>Republican</td>\n",
       "      <td>4,685,047</td>\n",
       "      <td>3,877,868</td>\n",
       "      <td>3,308,124</td>\n",
       "      <td>4,569,843</td>\n",
       "      <td>Republican2012</td>\n",
       "      <td>Republican2016</td>\n",
       "    </tr>\n",
       "    <tr>\n",
       "      <th>17917</th>\n",
       "      <td>1.149850e+18</td>\n",
       "      <td>RepGosar</td>\n",
       "      <td>2019-07-12T21:15:54-04:00</td>\n",
       "      <td>RT @BreitbartNews Exclusive—@RepGosar: America...</td>\n",
       "      <td>Paul Gosar</td>\n",
       "      <td>Rep</td>\n",
       "      <td>3-Jan-11</td>\n",
       "      <td>11/22/1958</td>\n",
       "      <td>M</td>\n",
       "      <td>AZ</td>\n",
       "      <td>4</td>\n",
       "      <td>Republican</td>\n",
       "      <td>1,252,401</td>\n",
       "      <td>1,161,167</td>\n",
       "      <td>1,025,232</td>\n",
       "      <td>1,233,654</td>\n",
       "      <td>Republican2012</td>\n",
       "      <td>Republican2016</td>\n",
       "    </tr>\n",
       "  </tbody>\n",
       "</table>\n",
       "</div>"
      ],
      "text/plain": [
       "            tweet_id      screen_name                   datetime  \\\n",
       "476174  1.095450e+18      SteveDaines  2019-02-12T17:27:18-05:00   \n",
       "545367  1.259960e+18   MartinHeinrich  2020-05-11T17:30:40-04:00   \n",
       "154284  1.333500e+18  RepLindaSanchez  2020-11-30T14:50:36-05:00   \n",
       "810427  1.252650e+18       SenTedCruz  2020-04-21T13:35:21-04:00   \n",
       "17917   1.149850e+18         RepGosar  2019-07-12T21:15:54-04:00   \n",
       "\n",
       "                                                     text   name_wikipedia  \\\n",
       "476174  BIG DAY for conservation in Montana and across...     Steve Daines   \n",
       "545367  Even though this year's Santa Fe Indian Market...  Martin Heinrich   \n",
       "154284  RT @BillPascrell For years the IRS disproporti...    Linda Sánchez   \n",
       "810427  As the Senate finally moves ahead with additio...         Ted Cruz   \n",
       "17917   RT @BreitbartNews Exclusive—@RepGosar: America...       Paul Gosar   \n",
       "\n",
       "       position joined_congress_date    birthday gender state district_number  \\\n",
       "476174      Sen             3-Jan-15   8/20/1962      M    MT          Senate   \n",
       "545367      Sen             3-Jan-13  10/17/1971      M    NM          Senate   \n",
       "154284      Rep             3-Jan-03   1/28/1969      F    CA              38   \n",
       "810427      Sen             3-Jan-13  12/22/1970      M    TX          Senate   \n",
       "17917       Rep             3-Jan-11  11/22/1958      M    AZ               4   \n",
       "\n",
       "             party trump_2016_state_share clinton_2016_state_share  \\\n",
       "476174  Republican                279,240                  177,709   \n",
       "545367    Democrat                319,667                  385,234   \n",
       "154284    Democrat              4,483,814                8,753,792   \n",
       "810427  Republican              4,685,047                3,877,868   \n",
       "17917   Republican              1,252,401                1,161,167   \n",
       "\n",
       "       obama_2012_state_share romney_2012_state_share      party_2012  \\\n",
       "476174                201,839                 267,928  Republican2012   \n",
       "545367                415,335                 335,788    Democrat2012   \n",
       "154284              7,854,285               4,839,958    Democrat2012   \n",
       "810427              3,308,124               4,569,843  Republican2012   \n",
       "17917               1,025,232               1,233,654  Republican2012   \n",
       "\n",
       "            party_2016  \n",
       "476174  Republican2016  \n",
       "545367    Democrat2016  \n",
       "154284    Democrat2016  \n",
       "810427  Republican2016  \n",
       "17917   Republican2016  "
      ]
     },
     "execution_count": 4,
     "metadata": {},
     "output_type": "execute_result"
    }
   ],
   "source": [
    "#Create dictionary for states' 2012 and 2016 election results, store it in dataset because we probably will do some change over time stuff related to RQ2\n",
    "mappedstates = {}  # Create an empty dictionary to hold state mappings\n",
    "\n",
    "# Iterate over rows for 2012 data\n",
    "for index, row in congress_tweets.iterrows():\n",
    "    if row['obama_2012_state_share'] > row['romney_2012_state_share']:\n",
    "        mappedstates[row['state']] = ['Democrat2012', None]  # Assign Democrat for 2012\n",
    "    else:\n",
    "        mappedstates[row['state']] = ['Republican2012', None]  # Assign Republican for 2012\n",
    "\n",
    "# Iterate over rows for 2016 data and update mappings\n",
    "for index, row in congress_tweets.iterrows():\n",
    "    if row['clinton_2016_state_share'] > row['trump_2016_state_share']:\n",
    "        mappedstates[row['state']][1] = 'Democrat2016'  # Update 2016 to Democrat\n",
    "    else:\n",
    "        mappedstates[row['state']][1] = 'Republican2016'  # Update 2016 to Republican\n",
    "\n",
    "# Create new columns for party affiliation in 2012 and 2016\n",
    "congress_tweets['party_2012'] = congress_tweets['state'].map(lambda state: mappedstates.get(state, [None, None])[0])\n",
    "congress_tweets['party_2016'] = congress_tweets['state'].map(lambda state: mappedstates.get(state, [None, None])[1])\n",
    "\n",
    "# Check the updated DataFrame\n",
    "congress_tweets.head()"
   ]
  },
  {
   "cell_type": "code",
   "execution_count": 5,
   "metadata": {},
   "outputs": [
    {
     "data": {
      "text/html": [
       "<div>\n",
       "<style scoped>\n",
       "    .dataframe tbody tr th:only-of-type {\n",
       "        vertical-align: middle;\n",
       "    }\n",
       "\n",
       "    .dataframe tbody tr th {\n",
       "        vertical-align: top;\n",
       "    }\n",
       "\n",
       "    .dataframe thead th {\n",
       "        text-align: right;\n",
       "    }\n",
       "</style>\n",
       "<table border=\"1\" class=\"dataframe\">\n",
       "  <thead>\n",
       "    <tr style=\"text-align: right;\">\n",
       "      <th></th>\n",
       "      <th>tweet_id</th>\n",
       "      <th>screen_name</th>\n",
       "      <th>datetime</th>\n",
       "      <th>text</th>\n",
       "      <th>name_wikipedia</th>\n",
       "      <th>position</th>\n",
       "      <th>joined_congress_date</th>\n",
       "      <th>birthday</th>\n",
       "      <th>gender</th>\n",
       "      <th>state</th>\n",
       "      <th>district_number</th>\n",
       "      <th>party</th>\n",
       "      <th>trump_2016_state_share</th>\n",
       "      <th>clinton_2016_state_share</th>\n",
       "      <th>obama_2012_state_share</th>\n",
       "      <th>romney_2012_state_share</th>\n",
       "      <th>party_2012</th>\n",
       "      <th>party_2016</th>\n",
       "    </tr>\n",
       "  </thead>\n",
       "  <tbody>\n",
       "    <tr>\n",
       "      <th>476174</th>\n",
       "      <td>1.095450e+18</td>\n",
       "      <td>SteveDaines</td>\n",
       "      <td>2019-02-12T17:27:18-05:00</td>\n",
       "      <td>BIG DAY for conservation in Montana and across...</td>\n",
       "      <td>Steve Daines</td>\n",
       "      <td>Sen</td>\n",
       "      <td>2015-01-03</td>\n",
       "      <td>1962-08-20</td>\n",
       "      <td>M</td>\n",
       "      <td>MT</td>\n",
       "      <td>Senate</td>\n",
       "      <td>Republican</td>\n",
       "      <td>279,240</td>\n",
       "      <td>177,709</td>\n",
       "      <td>201,839</td>\n",
       "      <td>267,928</td>\n",
       "      <td>Republican2012</td>\n",
       "      <td>Republican2016</td>\n",
       "    </tr>\n",
       "    <tr>\n",
       "      <th>545367</th>\n",
       "      <td>1.259960e+18</td>\n",
       "      <td>MartinHeinrich</td>\n",
       "      <td>2020-05-11T17:30:40-04:00</td>\n",
       "      <td>Even though this year's Santa Fe Indian Market...</td>\n",
       "      <td>Martin Heinrich</td>\n",
       "      <td>Sen</td>\n",
       "      <td>2013-01-03</td>\n",
       "      <td>1971-10-17</td>\n",
       "      <td>M</td>\n",
       "      <td>NM</td>\n",
       "      <td>Senate</td>\n",
       "      <td>Democrat</td>\n",
       "      <td>319,667</td>\n",
       "      <td>385,234</td>\n",
       "      <td>415,335</td>\n",
       "      <td>335,788</td>\n",
       "      <td>Democrat2012</td>\n",
       "      <td>Democrat2016</td>\n",
       "    </tr>\n",
       "    <tr>\n",
       "      <th>154284</th>\n",
       "      <td>1.333500e+18</td>\n",
       "      <td>RepLindaSanchez</td>\n",
       "      <td>2020-11-30T14:50:36-05:00</td>\n",
       "      <td>RT @BillPascrell For years the IRS disproporti...</td>\n",
       "      <td>Linda Sánchez</td>\n",
       "      <td>Rep</td>\n",
       "      <td>2003-01-03</td>\n",
       "      <td>1969-01-28</td>\n",
       "      <td>F</td>\n",
       "      <td>CA</td>\n",
       "      <td>38</td>\n",
       "      <td>Democrat</td>\n",
       "      <td>4,483,814</td>\n",
       "      <td>8,753,792</td>\n",
       "      <td>7,854,285</td>\n",
       "      <td>4,839,958</td>\n",
       "      <td>Democrat2012</td>\n",
       "      <td>Democrat2016</td>\n",
       "    </tr>\n",
       "    <tr>\n",
       "      <th>810427</th>\n",
       "      <td>1.252650e+18</td>\n",
       "      <td>SenTedCruz</td>\n",
       "      <td>2020-04-21T13:35:21-04:00</td>\n",
       "      <td>As the Senate finally moves ahead with additio...</td>\n",
       "      <td>Ted Cruz</td>\n",
       "      <td>Sen</td>\n",
       "      <td>2013-01-03</td>\n",
       "      <td>1970-12-22</td>\n",
       "      <td>M</td>\n",
       "      <td>TX</td>\n",
       "      <td>Senate</td>\n",
       "      <td>Republican</td>\n",
       "      <td>4,685,047</td>\n",
       "      <td>3,877,868</td>\n",
       "      <td>3,308,124</td>\n",
       "      <td>4,569,843</td>\n",
       "      <td>Republican2012</td>\n",
       "      <td>Republican2016</td>\n",
       "    </tr>\n",
       "    <tr>\n",
       "      <th>17917</th>\n",
       "      <td>1.149850e+18</td>\n",
       "      <td>RepGosar</td>\n",
       "      <td>2019-07-12T21:15:54-04:00</td>\n",
       "      <td>RT @BreitbartNews Exclusive—@RepGosar: America...</td>\n",
       "      <td>Paul Gosar</td>\n",
       "      <td>Rep</td>\n",
       "      <td>2011-01-03</td>\n",
       "      <td>1958-11-22</td>\n",
       "      <td>M</td>\n",
       "      <td>AZ</td>\n",
       "      <td>4</td>\n",
       "      <td>Republican</td>\n",
       "      <td>1,252,401</td>\n",
       "      <td>1,161,167</td>\n",
       "      <td>1,025,232</td>\n",
       "      <td>1,233,654</td>\n",
       "      <td>Republican2012</td>\n",
       "      <td>Republican2016</td>\n",
       "    </tr>\n",
       "  </tbody>\n",
       "</table>\n",
       "</div>"
      ],
      "text/plain": [
       "            tweet_id      screen_name                   datetime  \\\n",
       "476174  1.095450e+18      SteveDaines  2019-02-12T17:27:18-05:00   \n",
       "545367  1.259960e+18   MartinHeinrich  2020-05-11T17:30:40-04:00   \n",
       "154284  1.333500e+18  RepLindaSanchez  2020-11-30T14:50:36-05:00   \n",
       "810427  1.252650e+18       SenTedCruz  2020-04-21T13:35:21-04:00   \n",
       "17917   1.149850e+18         RepGosar  2019-07-12T21:15:54-04:00   \n",
       "\n",
       "                                                     text   name_wikipedia  \\\n",
       "476174  BIG DAY for conservation in Montana and across...     Steve Daines   \n",
       "545367  Even though this year's Santa Fe Indian Market...  Martin Heinrich   \n",
       "154284  RT @BillPascrell For years the IRS disproporti...    Linda Sánchez   \n",
       "810427  As the Senate finally moves ahead with additio...         Ted Cruz   \n",
       "17917   RT @BreitbartNews Exclusive—@RepGosar: America...       Paul Gosar   \n",
       "\n",
       "       position joined_congress_date   birthday gender state district_number  \\\n",
       "476174      Sen           2015-01-03 1962-08-20      M    MT          Senate   \n",
       "545367      Sen           2013-01-03 1971-10-17      M    NM          Senate   \n",
       "154284      Rep           2003-01-03 1969-01-28      F    CA              38   \n",
       "810427      Sen           2013-01-03 1970-12-22      M    TX          Senate   \n",
       "17917       Rep           2011-01-03 1958-11-22      M    AZ               4   \n",
       "\n",
       "             party trump_2016_state_share clinton_2016_state_share  \\\n",
       "476174  Republican                279,240                  177,709   \n",
       "545367    Democrat                319,667                  385,234   \n",
       "154284    Democrat              4,483,814                8,753,792   \n",
       "810427  Republican              4,685,047                3,877,868   \n",
       "17917   Republican              1,252,401                1,161,167   \n",
       "\n",
       "       obama_2012_state_share romney_2012_state_share      party_2012  \\\n",
       "476174                201,839                 267,928  Republican2012   \n",
       "545367                415,335                 335,788    Democrat2012   \n",
       "154284              7,854,285               4,839,958    Democrat2012   \n",
       "810427              3,308,124               4,569,843  Republican2012   \n",
       "17917               1,025,232               1,233,654  Republican2012   \n",
       "\n",
       "            party_2016  \n",
       "476174  Republican2016  \n",
       "545367    Democrat2016  \n",
       "154284    Democrat2016  \n",
       "810427  Republican2016  \n",
       "17917   Republican2016  "
      ]
     },
     "execution_count": 5,
     "metadata": {},
     "output_type": "execute_result"
    }
   ],
   "source": [
    "#Play around with formatting of temporal variables\n",
    "congress_tweets['joined_congress_date'] = pd.to_datetime(congress_tweets['joined_congress_date'], format='%d-%b-%y')\n",
    "\n",
    "congress_tweets['birthday'] = pd.to_datetime(congress_tweets['birthday'], format='%m/%d/%Y')\n",
    "\n",
    "congress_tweets.head()"
   ]
  },
  {
   "cell_type": "code",
   "execution_count": 7,
   "metadata": {},
   "outputs": [
    {
     "name": "stdout",
     "output_type": "stream",
     "text": [
      "Index(['tweet_id', 'screen_name', 'datetime', 'text', 'name_wikipedia',\n",
      "       'position', 'joined_congress_date', 'birthday', 'gender', 'state',\n",
      "       'district_number', 'party', 'trump_2016_state_share',\n",
      "       'clinton_2016_state_share', 'obama_2012_state_share',\n",
      "       'romney_2012_state_share', 'party_2012', 'party_2016'],\n",
      "      dtype='object')\n"
     ]
    }
   ],
   "source": [
    "print(congress_tweets.columns)"
   ]
  },
  {
   "cell_type": "code",
   "execution_count": 6,
   "metadata": {},
   "outputs": [
    {
     "ename": "KeyError",
     "evalue": "'original_screen_name'",
     "output_type": "error",
     "traceback": [
      "\u001b[0;31m---------------------------------------------------------------------------\u001b[0m",
      "\u001b[0;31mKeyError\u001b[0m                                  Traceback (most recent call last)",
      "File \u001b[0;32m/opt/anaconda3/envs/CSS/lib/python3.12/site-packages/pandas/core/indexes/base.py:3805\u001b[0m, in \u001b[0;36mIndex.get_loc\u001b[0;34m(self, key)\u001b[0m\n\u001b[1;32m   3804\u001b[0m \u001b[38;5;28;01mtry\u001b[39;00m:\n\u001b[0;32m-> 3805\u001b[0m     \u001b[38;5;28;01mreturn\u001b[39;00m \u001b[38;5;28mself\u001b[39m\u001b[38;5;241m.\u001b[39m_engine\u001b[38;5;241m.\u001b[39mget_loc(casted_key)\n\u001b[1;32m   3806\u001b[0m \u001b[38;5;28;01mexcept\u001b[39;00m \u001b[38;5;167;01mKeyError\u001b[39;00m \u001b[38;5;28;01mas\u001b[39;00m err:\n",
      "File \u001b[0;32mindex.pyx:167\u001b[0m, in \u001b[0;36mpandas._libs.index.IndexEngine.get_loc\u001b[0;34m()\u001b[0m\n",
      "File \u001b[0;32mindex.pyx:196\u001b[0m, in \u001b[0;36mpandas._libs.index.IndexEngine.get_loc\u001b[0;34m()\u001b[0m\n",
      "File \u001b[0;32mpandas/_libs/hashtable_class_helper.pxi:7081\u001b[0m, in \u001b[0;36mpandas._libs.hashtable.PyObjectHashTable.get_item\u001b[0;34m()\u001b[0m\n",
      "File \u001b[0;32mpandas/_libs/hashtable_class_helper.pxi:7089\u001b[0m, in \u001b[0;36mpandas._libs.hashtable.PyObjectHashTable.get_item\u001b[0;34m()\u001b[0m\n",
      "\u001b[0;31mKeyError\u001b[0m: 'original_screen_name'",
      "\nThe above exception was the direct cause of the following exception:\n",
      "\u001b[0;31mKeyError\u001b[0m                                  Traceback (most recent call last)",
      "Cell \u001b[0;32mIn[6], line 4\u001b[0m\n\u001b[1;32m      1\u001b[0m \u001b[38;5;66;03m#Obviously a person's name does not change, even if their screen name does. What we want to do is capture all the screen names associated with a particular individual\u001b[39;00m\n\u001b[1;32m      2\u001b[0m \n\u001b[1;32m      3\u001b[0m \u001b[38;5;66;03m# Create a mapping dictionary from 'screen_name' to 'name_wikipedia'\u001b[39;00m\n\u001b[0;32m----> 4\u001b[0m screenname_to_wiki \u001b[38;5;241m=\u001b[39m \u001b[38;5;28mdict\u001b[39m(\u001b[38;5;28mzip\u001b[39m(congress_tweets[\u001b[38;5;124m'\u001b[39m\u001b[38;5;124moriginal_screen_name\u001b[39m\u001b[38;5;124m'\u001b[39m], congress_tweets[\u001b[38;5;124m'\u001b[39m\u001b[38;5;124mname_wikipedia\u001b[39m\u001b[38;5;124m'\u001b[39m]))\n\u001b[1;32m      6\u001b[0m \u001b[38;5;66;03m# Map the dictionary to create the 'mapped_wikipedia' column\u001b[39;00m\n\u001b[1;32m      7\u001b[0m congress_tweets[\u001b[38;5;124m'\u001b[39m\u001b[38;5;124mmapped_wikipedia\u001b[39m\u001b[38;5;124m'\u001b[39m] \u001b[38;5;241m=\u001b[39m congress_tweets[\u001b[38;5;124m'\u001b[39m\u001b[38;5;124moriginal_screen_name\u001b[39m\u001b[38;5;124m'\u001b[39m]\u001b[38;5;241m.\u001b[39mmap(screenname_to_wiki)\n",
      "File \u001b[0;32m/opt/anaconda3/envs/CSS/lib/python3.12/site-packages/pandas/core/frame.py:4102\u001b[0m, in \u001b[0;36mDataFrame.__getitem__\u001b[0;34m(self, key)\u001b[0m\n\u001b[1;32m   4100\u001b[0m \u001b[38;5;28;01mif\u001b[39;00m \u001b[38;5;28mself\u001b[39m\u001b[38;5;241m.\u001b[39mcolumns\u001b[38;5;241m.\u001b[39mnlevels \u001b[38;5;241m>\u001b[39m \u001b[38;5;241m1\u001b[39m:\n\u001b[1;32m   4101\u001b[0m     \u001b[38;5;28;01mreturn\u001b[39;00m \u001b[38;5;28mself\u001b[39m\u001b[38;5;241m.\u001b[39m_getitem_multilevel(key)\n\u001b[0;32m-> 4102\u001b[0m indexer \u001b[38;5;241m=\u001b[39m \u001b[38;5;28mself\u001b[39m\u001b[38;5;241m.\u001b[39mcolumns\u001b[38;5;241m.\u001b[39mget_loc(key)\n\u001b[1;32m   4103\u001b[0m \u001b[38;5;28;01mif\u001b[39;00m is_integer(indexer):\n\u001b[1;32m   4104\u001b[0m     indexer \u001b[38;5;241m=\u001b[39m [indexer]\n",
      "File \u001b[0;32m/opt/anaconda3/envs/CSS/lib/python3.12/site-packages/pandas/core/indexes/base.py:3812\u001b[0m, in \u001b[0;36mIndex.get_loc\u001b[0;34m(self, key)\u001b[0m\n\u001b[1;32m   3807\u001b[0m     \u001b[38;5;28;01mif\u001b[39;00m \u001b[38;5;28misinstance\u001b[39m(casted_key, \u001b[38;5;28mslice\u001b[39m) \u001b[38;5;129;01mor\u001b[39;00m (\n\u001b[1;32m   3808\u001b[0m         \u001b[38;5;28misinstance\u001b[39m(casted_key, abc\u001b[38;5;241m.\u001b[39mIterable)\n\u001b[1;32m   3809\u001b[0m         \u001b[38;5;129;01mand\u001b[39;00m \u001b[38;5;28many\u001b[39m(\u001b[38;5;28misinstance\u001b[39m(x, \u001b[38;5;28mslice\u001b[39m) \u001b[38;5;28;01mfor\u001b[39;00m x \u001b[38;5;129;01min\u001b[39;00m casted_key)\n\u001b[1;32m   3810\u001b[0m     ):\n\u001b[1;32m   3811\u001b[0m         \u001b[38;5;28;01mraise\u001b[39;00m InvalidIndexError(key)\n\u001b[0;32m-> 3812\u001b[0m     \u001b[38;5;28;01mraise\u001b[39;00m \u001b[38;5;167;01mKeyError\u001b[39;00m(key) \u001b[38;5;28;01mfrom\u001b[39;00m \u001b[38;5;21;01merr\u001b[39;00m\n\u001b[1;32m   3813\u001b[0m \u001b[38;5;28;01mexcept\u001b[39;00m \u001b[38;5;167;01mTypeError\u001b[39;00m:\n\u001b[1;32m   3814\u001b[0m     \u001b[38;5;66;03m# If we have a listlike key, _check_indexing_error will raise\u001b[39;00m\n\u001b[1;32m   3815\u001b[0m     \u001b[38;5;66;03m#  InvalidIndexError. Otherwise we fall through and re-raise\u001b[39;00m\n\u001b[1;32m   3816\u001b[0m     \u001b[38;5;66;03m#  the TypeError.\u001b[39;00m\n\u001b[1;32m   3817\u001b[0m     \u001b[38;5;28mself\u001b[39m\u001b[38;5;241m.\u001b[39m_check_indexing_error(key)\n",
      "\u001b[0;31mKeyError\u001b[0m: 'original_screen_name'"
     ]
    }
   ],
   "source": [
    "#Obviously a person's name does not change, even if their screen name does. What we want to do is capture all the screen names associated with a particular individual\n",
    "\n",
    "# Create a mapping dictionary from 'screen_name' to 'name_wikipedia'\n",
    "screenname_to_wiki = dict(zip(congress_tweets['screen_name'], congress_tweets['name_wikipedia']))\n",
    "\n",
    "# Map the dictionary to create the 'mapped_wikipedia' column\n",
    "congress_tweets['mapped_wikipedia'] = congress_tweets['screen_name'].map(screenname_to_wiki)\n",
    "\n",
    "# Group by 'mapped_wikipedia' and aggregate 'screen_names' into a list, ensuring uniqueness\n",
    "screenname_grouped = congress_tweets.groupby('mapped_wikipedia')['screen_name'].apply(lambda x: list(set(x))).reset_index()\n",
    "\n",
    "# Rename the column in 'screenname_grouped' to 'screen_name_all'\n",
    "screenname_grouped = screenname_grouped.rename(columns={'screen_name': 'screen_name_all'})\n",
    "\n",
    "# Merge the aggregated 'screen_name_all' back into the original DataFrame\n",
    "congress_tweets = congress_tweets.merge(screenname_grouped[['mapped_wikipedia', 'screen_name_all']], \n",
    "                                        on='mapped_wikipedia', \n",
    "                                        how='left', \n",
    "                                        suffixes=('', '_merged'))\n",
    "\n",
    "# Identify and drop any redundant 'screen_name_all' columns, leaving only the correct one\n",
    "columns_to_drop = [col for col in congress_tweets.columns if 'screen_name_all' in col and col != 'screen_name_all']\n",
    "congress_tweets.drop(columns=columns_to_drop, inplace=True)\n",
    "\n",
    "#Check resul"
   ]
  },
  {
   "cell_type": "code",
   "execution_count": null,
   "metadata": {},
   "outputs": [],
   "source": [
    "# Filter rows where 'screen_name_all' contains more than one screen name\n",
    "multiple_screen_names = congress_tweets[congress_tweets['screen_name_all'].apply(len) > 1]\n",
    "\n",
    "# Display rows with multiple screen names\n",
    "print(multiple_screen_names[['screen_name_all']])\n"
   ]
  },
  {
   "cell_type": "markdown",
   "metadata": {},
   "source": [
    "Lol, so there seem to be no updated screen names in this sample, I'm going to keep this code though, since the project PDF indicated that there will be different screen names for the same individual in some cases."
   ]
  },
  {
   "cell_type": "markdown",
   "metadata": {},
   "source": [
    "## Preprocessing"
   ]
  },
  {
   "cell_type": "markdown",
   "metadata": {},
   "source": [
    "The first step in working with text data is to preprocess it. Make sure you do the following:\n",
    "\n",
    "* Remove punctuation and stop words. The `rem_punc_stop()` function we used in lab is provided to you but you should feel free to edit it as necessary for other steps\n",
    "* Remove tokens that occur frequently in tweets, but may not be helpful for downstream classification. For instance, many tweets contain a flag for retweeting, or share a URL \n",
    "\n",
    "As you search online, you might run into solutions that rely on regular expressions. You are free to use these, but you should also be able to preprocess using the techniques we covered in lab. Specifically, we encourage you to use spaCy's token attributes and string methods to do some of this text preprocessing."
   ]
  },
  {
   "cell_type": "code",
   "execution_count": null,
   "metadata": {},
   "outputs": [],
   "source": [
    "import spacy\n",
    "from string import punctuation\n",
    "from spacy.lang.en.stop_words import STOP_WORDS\n",
    "import re\n",
    "import html  # Import html library for decoding\n",
    "\n",
    "# Load the SpaCy model\n",
    "nlp = spacy.load(\"en_core_web_sm\")\n",
    "\n",
    "def rem_punc_stop(text):\n",
    "    stop_words = STOP_WORDS  # List of common stopwords in English\n",
    "    punc = set(punctuation)  # Set of punctuation characters\n",
    "    \n",
    "    # Decode any HTML escape codes like &amp;\n",
    "    text = html.unescape(text)\n",
    "    \n",
    "    # Remove newline characters and unnecessary whitespaces\n",
    "    text = text.replace('\\n', ' ').strip()\n",
    "    \n",
    "    # Remove punctuation\n",
    "    punc_free = \"\".join([ch for ch in text if ch not in punc])\n",
    "    \n",
    "    # Process the text with SpaCy\n",
    "    doc = nlp(punc_free)\n",
    "    \n",
    "    # Get all words, excluding URLs\n",
    "    spacy_words = [token.text for token in doc if not token.like_url]\n",
    "    \n",
    "    # Filter out stop words and convert to lowercase\n",
    "    no_punc = [word for word in spacy_words if word.lower() not in stop_words]\n",
    "    \n",
    "    return no_punc\n"
   ]
  },
  {
   "cell_type": "code",
   "execution_count": null,
   "metadata": {},
   "outputs": [],
   "source": [
    "# apply the function to the 'text' i.e. tweet column\n",
    "# ----------\n",
    "congress_tweets['tokens'] = congress_tweets['text'].map(lambda x: rem_punc_stop(x)) # can use apply here \n",
    "congress_tweets['tokens'] # visualize"
   ]
  },
  {
   "cell_type": "code",
   "execution_count": null,
   "metadata": {},
   "outputs": [],
   "source": [
    "#!git status"
   ]
  },
  {
   "cell_type": "code",
   "execution_count": null,
   "metadata": {},
   "outputs": [],
   "source": [
    "#!git add \"Taylor Updates Project 5 Student.ipynb\""
   ]
  },
  {
   "cell_type": "code",
   "execution_count": null,
   "metadata": {},
   "outputs": [],
   "source": [
    "#!git status"
   ]
  },
  {
   "cell_type": "code",
   "execution_count": null,
   "metadata": {},
   "outputs": [],
   "source": [
    "#!git commit -m \"Insert new message\""
   ]
  },
  {
   "cell_type": "code",
   "execution_count": null,
   "metadata": {},
   "outputs": [],
   "source": [
    "#!git push"
   ]
  },
  {
   "cell_type": "markdown",
   "metadata": {},
   "source": [
    "## Exploratory Data Analysis"
   ]
  },
  {
   "cell_type": "markdown",
   "metadata": {},
   "source": [
    "Use two of the techniques we covered in lab (or other techniques outside of lab!) to explore the text of the tweets. You should construct these visualizations with an eye toward the eventual classification tasks: (1) predicting the legislator's political party based on the text of their tweet, and (2) predicting whether the legislator is a Senator or Representative. As a reminder, in lab we covered word frequencies, word clouds, word/character counts, scattertext, and topic modeling as possible exploration tools. "
   ]
  },
  {
   "cell_type": "markdown",
   "metadata": {},
   "source": [
    "### EDA 1"
   ]
  },
  {
   "cell_type": "code",
   "execution_count": null,
   "metadata": {},
   "outputs": [],
   "source": [
    "# apply function to text object\n",
    "from wordcloud import WordCloud\n",
    "import matplotlib.pyplot as plt\n",
    "text = ' '.join(congress_tweets['tokens'].map(lambda text: ' '.join(text)))\n",
    "\n",
    "# create WordCloud visualization using the \"text\" object \n",
    "wordcloud = WordCloud(background_color = \"white\",  # set background color to white\n",
    "                      random_state=41              # set random state to ensure same word cloud each time\n",
    "                      ).generate(text)             # change the background color\n",
    "\n",
    "\n",
    "# plot \n",
    "plt.imshow(wordcloud,                  # specify wordcloud\n",
    "           interpolation = 'bilinear') # specifies how the words are displayed\n",
    "plt.axis('off')                        # turn off axes\n",
    "plt.show()                             # show the plot"
   ]
  },
  {
   "cell_type": "markdown",
   "metadata": {},
   "source": [
    "### EDA 2-ish"
   ]
  },
  {
   "cell_type": "markdown",
   "metadata": {},
   "source": [
    "### Retweets and Quote Tweets"
   ]
  },
  {
   "cell_type": "markdown",
   "metadata": {},
   "source": [
    "I think that retweets and quote tweets are meaningful signals, though we might not want to have them messing up our sentiment analysis. \n",
    "First, let's pull them out to see how prevalent they actually are (reminding ourselves that this is a small subset of our very large dataset)"
   ]
  },
  {
   "cell_type": "code",
   "execution_count": null,
   "metadata": {},
   "outputs": [],
   "source": [
    "# Find all tweets containing \"RT\" or \"QT\"\n",
    "RTtweets = congress_tweets[congress_tweets['text'].str.contains('RT', na=False)]\n",
    "QTtweets = congress_tweets[congress_tweets['text'].str.contains('QT', na=False)]\n",
    "\n",
    "# Print the count of retweets and quote tweets\n",
    "print(f\"Number of tweets containing Retweets: {RTtweets.shape[0]}\")\n",
    "print(f\"Number of tweets containing Quote tweets: {QTtweets.shape[0]}\")"
   ]
  },
  {
   "cell_type": "markdown",
   "metadata": {},
   "source": [
    "Now there are some analytic choices here. \n",
    "For quote tweets, we will probably need to conceptualize this as a conversation, where the sentiment/message of the original tweet can be the opposite of the re-poster.\n",
    "However, should 'simple' re-tweets be considered representative of the person doing the re-tweeting? \n",
    "Or should they be attributed to the original speaker(s) instead? What should we do if multiple people are being referenced?\n",
    "Let's see if people are re-tweeting/quote-tweeting other individuals who are also in our database. As we can only reasonably infer characteristics about people being re-tweeted if they are in our database already."
   ]
  },
  {
   "cell_type": "code",
   "execution_count": null,
   "metadata": {},
   "outputs": [],
   "source": [
    "repost_users = congress_tweets[congress_tweets['text'].str.contains('@', na=False)]\n",
    "\n",
    "print(repost_users[['text']].head())\n",
    "\n",
    "# Print the count of tweets with an @\n",
    "print(f\"Total number of tweets containing an @: {repost_users.shape[0]}\")"
   ]
  },
  {
   "cell_type": "code",
   "execution_count": null,
   "metadata": {},
   "outputs": [],
   "source": [
    "import re\n",
    "\n",
    "mentionedusers = {}  # Create an empty dictionary to hold mentions and associated tweet text\n",
    "\n",
    "# Iterate over rows of congress_tweets\n",
    "for index, row in congress_tweets.iterrows():\n",
    "    # Extract mentions (users starting with @) from the tweet text\n",
    "    mentions = re.findall(r'@([a-zA-Z0-9_]+)', row['text'])\n",
    "    \n",
    "    # Check if any of the mentions are in the congress_tweets['original_screen_name'] list\n",
    "    for mention in mentions:\n",
    "        if mention in congress_tweets['original_screen_name'].values:\n",
    "            # Find the political affiliation of the person doing the mentioning (the tweet author)\n",
    "            mentioner_affiliation = congress_tweets.loc[congress_tweets['original_screen_name'] == row['original_screen_name'], 'party'].values[0]\n",
    "            \n",
    "            # Find the political affiliation of the person being mentioned\n",
    "            mentioned_affiliation = congress_tweets.loc[congress_tweets['original_screen_name'] == mention, 'party'].values[0]\n",
    "            \n",
    "            # Store the tweet text, the mentioner’s political affiliation, and the mentioned person’s political affiliation in the dictionary\n",
    "            mentionedusers[mention] = {\n",
    "                'mentioner_screen_name': row['original_screen_name'],  # Add mentioner's screen name\n",
    "                'mentioner_text': row['text'],\n",
    "                'mentioner_affiliation': mentioner_affiliation,\n",
    "                'mentioned_affiliation': mentioned_affiliation\n",
    "            }\n",
    "\n",
    "# Print only the first 5 mentions that are in congress_tweets['original_screen_name'], including political affiliation and the tweet author\n",
    "for i, (mention, details) in enumerate(mentionedusers.items()):\n",
    "    if i >= 5:\n",
    "        break\n",
    "    print(f\"Tweet Author: {details['mentioner_screen_name']}\")\n",
    "    print(f\"Author Political Affiliation: {details['mentioner_affiliation']}\")\n",
    "    print(f\"Mentioned User: {mention}\")\n",
    "    print(f\"Mentioned User Political Affiliation: {details['mentioned_affiliation']}\\n\")\n",
    "    print(f\"Tweet Text: {details['mentioner_text']}\")\n",
    "    print(\"_________\")\n",
    "    \n",
    "print(f\"Number of mentions: {len(mentionedusers)}\")\n"
   ]
  },
  {
   "cell_type": "markdown",
   "metadata": {},
   "source": [
    "From this, we can see the different ways users are interacting with one another in the form of @'s, retweets, and quote tweets. "
   ]
  },
  {
   "cell_type": "markdown",
   "metadata": {},
   "source": [
    "## Sentiment Analysis"
   ]
  },
  {
   "cell_type": "markdown",
   "metadata": {},
   "source": [
    "Next, let's analyze the sentiments contained within the tweets. You may use TextBlob or another library for these tasks. Do the following:\n",
    "\n",
    "* Choose two legislators, one who you think will be more liberal and one who you think will be more conservative, and analyze their sentiment and/or subjectivity scores per tweet. For instance, you might do two scatterplots that plot each legislator's sentiment against their subjectivity, or two density plots for their sentiments. Do the scores match what you thought?\n",
    "* Plot two more visualizations like the ones you chose in the first part, but do them to compare (1) Democrats v. Republicans and (2) Senators v. Representatives \n",
    "\n",
    "`TextBlob` has already been imported in the top cell."
   ]
  },
  {
   "cell_type": "code",
   "execution_count": 63,
   "metadata": {},
   "outputs": [
    {
     "data": {
      "text/plain": [
       "Ellipsis"
      ]
     },
     "execution_count": 63,
     "metadata": {},
     "output_type": "execute_result"
    }
   ],
   "source": [
    "..."
   ]
  },
  {
   "cell_type": "markdown",
   "metadata": {},
   "source": [
    "## Featurization"
   ]
  },
  {
   "cell_type": "markdown",
   "metadata": {},
   "source": [
    "Before going to classification, explore different featurization techniques. Create three dataframes or arrays to represent your text features, specifically:\n",
    "\n",
    "* Features engineered from your previous analysis. For example, word counts, sentiment scores, topic model etc.\n",
    "* A term frequency-inverse document frequency matrix. \n",
    "* An embedding-based featurization (like a document averaged word2vec)\n",
    "\n",
    "In the next section, you will experiment with each of these featurization techniques to see which one produces the best classifications."
   ]
  },
  {
   "cell_type": "code",
   "execution_count": null,
   "metadata": {},
   "outputs": [],
   "source": [
    "..."
   ]
  },
  {
   "cell_type": "markdown",
   "metadata": {},
   "source": [
    "### Engineered Text Features"
   ]
  },
  {
   "cell_type": "code",
   "execution_count": null,
   "metadata": {},
   "outputs": [],
   "source": [
    "# Engineered Features\n",
    "..."
   ]
  },
  {
   "cell_type": "markdown",
   "metadata": {},
   "source": [
    "### Bag-of-words or Tf-idf"
   ]
  },
  {
   "cell_type": "code",
   "execution_count": null,
   "metadata": {},
   "outputs": [],
   "source": [
    "# Frequency Based featurization\n",
    "..."
   ]
  },
  {
   "cell_type": "markdown",
   "metadata": {},
   "source": [
    "### Word Embedding"
   ]
  },
  {
   "cell_type": "code",
   "execution_count": null,
   "metadata": {},
   "outputs": [],
   "source": [
    "# Load Word2Vec model from Google; OPTIONAL depending on your computational resources (the file is ~1 GB)\n",
    "# Also note that this file path assumes that the word vectors are underneath 'data'; you may wish to point to the CSS course repo and change the path\n",
    "# or move the vector file to the project repo \n",
    "\n",
    "#model = gensim.models.KeyedVectors.load_word2vec_format('data/GoogleNews-vectors-negative300.bin.gz', binary = True) "
   ]
  },
  {
   "cell_type": "code",
   "execution_count": null,
   "metadata": {},
   "outputs": [],
   "source": [
    "# Function to average word embeddings for a document; use examples from lab to apply this function. You can use also other techniques such as PCA and doc2vec instead.\n",
    "def document_vector(word2vec_model, doc):\n",
    "    doc = [word for word in doc if word in model.vocab]\n",
    "    return np.mean(model[doc], axis=0)"
   ]
  },
  {
   "cell_type": "code",
   "execution_count": null,
   "metadata": {},
   "outputs": [],
   "source": [
    "# embedding based featurization\n",
    "..."
   ]
  },
  {
   "cell_type": "markdown",
   "metadata": {},
   "source": [
    "## Classification"
   ]
  },
  {
   "cell_type": "markdown",
   "metadata": {},
   "source": [
    "Either use cross-validation or partition your data with training/validation/test sets for this section. Do the following:\n",
    "\n",
    "* Choose a supervised learning algorithm such as logistic regression, random forest etc. \n",
    "* Train six models. For each of the three dataframes you created in the featurization part, train one model to predict whether the author of the tweet is a Democrat or Republican, and a second model to predict whether the author is a Senator or Representative.\n",
    "* Report the accuracy and other relevant metrics for each of these six models.\n",
    "* Choose the featurization technique associated with your best model. Combine those text features with non-text features. Train two more models: (1) A supervised learning algorithm that uses just the non-text features and (2) a supervised learning algorithm that combines text and non-text features. Report accuracy and other relevant metrics. \n",
    "\n",
    "If time permits, you are encouraged to use hyperparameter tuning or AutoML techniques like TPOT, but are not explicitly required to do so."
   ]
  },
  {
   "cell_type": "markdown",
   "metadata": {},
   "source": [
    "### Train Six Models with Just Text"
   ]
  },
  {
   "cell_type": "code",
   "execution_count": null,
   "metadata": {},
   "outputs": [],
   "source": [
    "# six models ([engineered features, frequency-based, embedding] * [democrat/republican, senator/representative])\n",
    "..."
   ]
  },
  {
   "cell_type": "markdown",
   "metadata": {},
   "source": [
    "### Two Combined Models"
   ]
  },
  {
   "cell_type": "code",
   "execution_count": null,
   "metadata": {},
   "outputs": [],
   "source": [
    "# two models ([best text features + non-text features] * [democrat/republican, senator/representative])\n",
    "..."
   ]
  },
  {
   "cell_type": "markdown",
   "metadata": {},
   "source": [
    "## Discussion Questions"
   ]
  },
  {
   "cell_type": "markdown",
   "metadata": {},
   "source": [
    "1. Why do standard preprocessing techniques need to be further customized to a particular corpus?"
   ]
  },
  {
   "cell_type": "markdown",
   "metadata": {},
   "source": [
    "**YOUR ANSWER HERE** ..."
   ]
  },
  {
   "cell_type": "markdown",
   "metadata": {},
   "source": [
    "2. Did you find evidence for the idea that Democrats and Republicans have different sentiments in their tweets? What about Senators and Representatives?"
   ]
  },
  {
   "cell_type": "markdown",
   "metadata": {},
   "source": [
    "**YOUR ANSWER HERE** ..."
   ]
  },
  {
   "cell_type": "markdown",
   "metadata": {},
   "source": [
    "3. Why is validating your exploratory and unsupervised learning approaches with a supervised learning algorithm valuable?"
   ]
  },
  {
   "cell_type": "markdown",
   "metadata": {},
   "source": [
    "**YOUR ANSWER HERE** ..."
   ]
  },
  {
   "cell_type": "markdown",
   "metadata": {},
   "source": [
    "4. Did text only, non-text only, or text and non-text features together perform the best? What is the intuition behind combining text and non-text features in a supervised learning algorithm?"
   ]
  },
  {
   "cell_type": "markdown",
   "metadata": {},
   "source": [
    "**YOUR ANSWER HERE** ..."
   ]
  }
 ],
 "metadata": {
  "kernelspec": {
   "display_name": "Python 3 (ipykernel)",
   "language": "python",
   "name": "python3"
  },
  "language_info": {
   "codemirror_mode": {
    "name": "ipython",
    "version": 3
   },
   "file_extension": ".py",
   "mimetype": "text/x-python",
   "name": "python",
   "nbconvert_exporter": "python",
   "pygments_lexer": "ipython3",
   "version": "3.12.4"
  }
 },
 "nbformat": 4,
 "nbformat_minor": 4
}
